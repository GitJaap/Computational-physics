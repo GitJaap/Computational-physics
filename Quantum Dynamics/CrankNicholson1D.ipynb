{
 "cells": [
  {
   "cell_type": "code",
   "execution_count": 1,
   "metadata": {
    "collapsed": false
   },
   "outputs": [],
   "source": [
    "import numpy as np\n",
    "import scipy.sparse as sp\n",
    "from scipy.sparse import linalg\n",
    "from matplotlib import pyplot as plt\n",
    "from matplotlib import animation\n",
    "%matplotlib notebook"
   ]
  },
  {
   "cell_type": "code",
   "execution_count": 2,
   "metadata": {
    "collapsed": false
   },
   "outputs": [],
   "source": [
    "# Numerical parameters\n",
    "h = 1/10000\n",
    "a = 1/1500\n",
    "x = np.arange(0,10+a,a)\n",
    "N = np.size(x)\n",
    "T = (int)(np.round(0.12/h))\n",
    "\n",
    "# Physical parameters\n",
    "# Somewhat smooth potential spike of which the particle can scatter\n",
    "V = 900*np.exp(-(x-3)**2/0.3**2)\n",
    "\n",
    "#Inital condition\n",
    "mu = 0.5\n",
    "sigma =0.05\n",
    "k0 = 50\n",
    "psi0= 1/np.sqrt(sigma*np.sqrt(2*np.pi))*np.exp(-(x-mu)**2/(4*sigma**2) + 1j*k0*x)\n"
   ]
  },
  {
   "cell_type": "markdown",
   "metadata": {},
   "source": [
    "#### Crank-Nicholson"
   ]
  },
  {
   "cell_type": "markdown",
   "metadata": {},
   "source": [
    "We solve here the 1D schrödinger equation with the Crank-Nicholson method. In this method we solve the systen\n",
    "$$\n",
    "(\\frac{i}{h} \\mathbb{I} - \\frac{1}{2} H_a) \\psi^{n+1} = (\\frac{i}{h} \\mathbb{I} + \\frac{1}{2} H_a) \\psi^n,\n",
    "$$\n",
    "where the discrete hamiltonian operator is given by (in atomic units)\n",
    "$$\n",
    "H_a \\psi^n = \\frac{-\\psi^n_{j-1} + 2\\psi^n_{j} - \\psi^n_{j+1}}{2a^2} + V_j \\psi^n_{j} \n",
    "$$\n",
    "\n",
    "Here $i$ is the imaginary unit, $h$ is the time step size, $a$ is the spatial discretization size, $n$ labels the time steps and $j$ labels the spatial dimension.\n",
    "\n",
    "We use atomic units. Lengths are in bohr radius, mass in electron mass, energy in Hartree and time in hbar/Ha."
   ]
  },
  {
   "cell_type": "code",
   "execution_count": 3,
   "metadata": {
    "collapsed": false
   },
   "outputs": [
    {
     "ename": "ValueError",
     "evalue": "Diagonal length (index 0: 15002 at offset -1) does not agree with matrix size (15002, 15002).",
     "output_type": "error",
     "traceback": [
      "\u001b[1;31m---------------------------------------------------------------------------\u001b[0m",
      "\u001b[1;31mValueError\u001b[0m                                Traceback (most recent call last)",
      "\u001b[1;32mC:\\Anaconda3\\lib\\site-packages\\scipy\\sparse\\construct.py\u001b[0m in \u001b[0;36mdiags\u001b[1;34m(diagonals, offsets, shape, format, dtype)\u001b[0m\n\u001b[0;32m    176\u001b[0m         \u001b[1;32mtry\u001b[0m\u001b[1;33m:\u001b[0m\u001b[1;33m\u001b[0m\u001b[0m\n\u001b[1;32m--> 177\u001b[1;33m             \u001b[0mdata_arr\u001b[0m\u001b[1;33m[\u001b[0m\u001b[0mj\u001b[0m\u001b[1;33m,\u001b[0m \u001b[0mk\u001b[0m\u001b[1;33m:\u001b[0m\u001b[0mk\u001b[0m\u001b[1;33m+\u001b[0m\u001b[0mlength\u001b[0m\u001b[1;33m]\u001b[0m \u001b[1;33m=\u001b[0m \u001b[0mdiagonal\u001b[0m\u001b[1;33m\u001b[0m\u001b[0m\n\u001b[0m\u001b[0;32m    178\u001b[0m         \u001b[1;32mexcept\u001b[0m \u001b[0mValueError\u001b[0m\u001b[1;33m:\u001b[0m\u001b[1;33m\u001b[0m\u001b[0m\n",
      "\u001b[1;31mValueError\u001b[0m: could not broadcast input array from shape (15002) into shape (15001)",
      "\nDuring handling of the above exception, another exception occurred:\n",
      "\u001b[1;31mValueError\u001b[0m                                Traceback (most recent call last)",
      "\u001b[1;32m<ipython-input-3-bf9674a5c54d>\u001b[0m in \u001b[0;36m<module>\u001b[1;34m()\u001b[0m\n\u001b[0;32m      2\u001b[0m \u001b[1;31m#Construct matrices M and A\u001b[0m\u001b[1;33m\u001b[0m\u001b[1;33m\u001b[0m\u001b[0m\n\u001b[0;32m      3\u001b[0m \u001b[0mones\u001b[0m \u001b[1;33m=\u001b[0m \u001b[0mnp\u001b[0m\u001b[1;33m.\u001b[0m\u001b[0mones\u001b[0m\u001b[1;33m(\u001b[0m\u001b[0mN\u001b[0m\u001b[1;33m)\u001b[0m\u001b[1;33m\u001b[0m\u001b[0m\n\u001b[1;32m----> 4\u001b[1;33m \u001b[0mHa\u001b[0m \u001b[1;33m=\u001b[0m \u001b[0msp\u001b[0m\u001b[1;33m.\u001b[0m\u001b[0mdiags\u001b[0m\u001b[1;33m(\u001b[0m\u001b[1;33m[\u001b[0m\u001b[1;33m-\u001b[0m\u001b[0mones\u001b[0m\u001b[1;33m/\u001b[0m\u001b[1;33m(\u001b[0m\u001b[1;36m2\u001b[0m\u001b[1;33m*\u001b[0m\u001b[0ma\u001b[0m\u001b[1;33m*\u001b[0m\u001b[0ma\u001b[0m\u001b[1;33m)\u001b[0m\u001b[1;33m,\u001b[0m \u001b[0mones\u001b[0m\u001b[1;33m/\u001b[0m\u001b[1;33m(\u001b[0m\u001b[0ma\u001b[0m\u001b[1;33m*\u001b[0m\u001b[0ma\u001b[0m\u001b[1;33m)\u001b[0m\u001b[1;33m+\u001b[0m\u001b[0mV\u001b[0m\u001b[1;33m,\u001b[0m \u001b[1;33m-\u001b[0m\u001b[0mones\u001b[0m\u001b[1;33m/\u001b[0m\u001b[1;33m(\u001b[0m\u001b[1;36m2\u001b[0m\u001b[1;33m*\u001b[0m\u001b[0ma\u001b[0m\u001b[1;33m*\u001b[0m\u001b[0ma\u001b[0m\u001b[1;33m)\u001b[0m\u001b[1;33m]\u001b[0m\u001b[1;33m,\u001b[0m\u001b[1;33m[\u001b[0m\u001b[1;33m-\u001b[0m\u001b[1;36m1\u001b[0m\u001b[1;33m,\u001b[0m \u001b[1;36m0\u001b[0m\u001b[1;33m,\u001b[0m \u001b[1;36m1\u001b[0m\u001b[1;33m]\u001b[0m\u001b[1;33m,\u001b[0m\u001b[1;33m(\u001b[0m\u001b[0mN\u001b[0m\u001b[1;33m,\u001b[0m\u001b[0mN\u001b[0m\u001b[1;33m)\u001b[0m\u001b[1;33m,\u001b[0m\u001b[0mformat\u001b[0m\u001b[1;33m=\u001b[0m\u001b[1;34m'csc'\u001b[0m\u001b[1;33m)\u001b[0m\u001b[1;33m\u001b[0m\u001b[0m\n\u001b[0m\u001b[0;32m      5\u001b[0m \u001b[0mM\u001b[0m \u001b[1;33m=\u001b[0m \u001b[1;36m1j\u001b[0m\u001b[1;33m/\u001b[0m\u001b[0mh\u001b[0m \u001b[1;33m*\u001b[0m \u001b[0msp\u001b[0m\u001b[1;33m.\u001b[0m\u001b[0midentity\u001b[0m\u001b[1;33m(\u001b[0m\u001b[0mN\u001b[0m\u001b[1;33m,\u001b[0m\u001b[0mformat\u001b[0m\u001b[1;33m=\u001b[0m\u001b[1;34m'csc'\u001b[0m\u001b[1;33m)\u001b[0m \u001b[1;33m-\u001b[0m \u001b[1;36m1\u001b[0m\u001b[1;33m/\u001b[0m\u001b[1;36m2\u001b[0m\u001b[1;33m*\u001b[0m\u001b[0mHa\u001b[0m\u001b[1;33m\u001b[0m\u001b[0m\n\u001b[0;32m      6\u001b[0m \u001b[0mA\u001b[0m \u001b[1;33m=\u001b[0m \u001b[1;36m1j\u001b[0m\u001b[1;33m/\u001b[0m\u001b[0mh\u001b[0m \u001b[1;33m*\u001b[0m \u001b[0msp\u001b[0m\u001b[1;33m.\u001b[0m\u001b[0midentity\u001b[0m\u001b[1;33m(\u001b[0m\u001b[0mN\u001b[0m\u001b[1;33m,\u001b[0m\u001b[0mformat\u001b[0m\u001b[1;33m=\u001b[0m\u001b[1;34m'csc'\u001b[0m\u001b[1;33m)\u001b[0m \u001b[1;33m+\u001b[0m \u001b[1;36m1\u001b[0m\u001b[1;33m/\u001b[0m\u001b[1;36m2\u001b[0m\u001b[1;33m*\u001b[0m\u001b[0mHa\u001b[0m\u001b[1;33m\u001b[0m\u001b[0m\n",
      "\u001b[1;32mC:\\Anaconda3\\lib\\site-packages\\scipy\\sparse\\construct.py\u001b[0m in \u001b[0;36mdiags\u001b[1;34m(diagonals, offsets, shape, format, dtype)\u001b[0m\n\u001b[0;32m    181\u001b[0m                     \u001b[1;34m\"Diagonal length (index %d: %d at offset %d) does not \"\u001b[0m\u001b[1;33m\u001b[0m\u001b[0m\n\u001b[0;32m    182\u001b[0m                     \"agree with matrix size (%d, %d).\" % (\n\u001b[1;32m--> 183\u001b[1;33m                     j, len(diagonal), offset, m, n))\n\u001b[0m\u001b[0;32m    184\u001b[0m             \u001b[1;32mraise\u001b[0m\u001b[1;33m\u001b[0m\u001b[0m\n\u001b[0;32m    185\u001b[0m \u001b[1;33m\u001b[0m\u001b[0m\n",
      "\u001b[1;31mValueError\u001b[0m: Diagonal length (index 0: 15002 at offset -1) does not agree with matrix size (15002, 15002)."
     ]
    }
   ],
   "source": [
    "#Program\n",
    "#Construct matrices M and A\n",
    "ones = np.ones(N)\n",
    "Ha = sp.diags([-ones/(2*a*a), ones/(a*a)+V, -ones/(2*a*a)],[-1, 0, 1],(N,N),format='csc')\n",
    "M = 1j/h * sp.identity(N,format='csc') - 1/2*Ha\n",
    "A = 1j/h * sp.identity(N,format='csc') + 1/2*Ha\n",
    "\n",
    "# Factorize (direct solver) and save factorization in a solve routine\n",
    "solve = sp.linalg.factorized(M)\n",
    "\n",
    "# Repeatedly solve the system to evovle in time.\n",
    "psi_t = np.empty((N,T))*0j\n",
    "psi_t[:,0] = psi0\n",
    "for n in range(1,T):\n",
    "    psi_t[:,n] = solve(A.dot(psi_t[:,n-1]))\n"
   ]
  },
  {
   "cell_type": "markdown",
   "metadata": {},
   "source": [
    "#### Animation of the result"
   ]
  },
  {
   "cell_type": "code",
   "execution_count": null,
   "metadata": {
    "collapsed": false
   },
   "outputs": [],
   "source": [
    "fig, ax = plt.subplots()\n",
    "plt.xlabel(r'$x$')\n",
    "plt.ylabel(r'$|\\psi|^2$')\n",
    "\n",
    "line, = ax.plot(x, np.absolute(psi0)**2)\n",
    "ax2 = ax.twinx()\n",
    "ax2.plot(x,V,'r:')\n",
    "ax.set_xlim(0,10)\n",
    "ax.set_ylim(0,2.5)\n",
    "ax2.set_ylim(0,1000)\n",
    "\n",
    "def animationFunc(i):\n",
    "    line.set_ydata(np.absolute(psi_t[:,i])**2)  # update the data\n",
    "    return line,\n",
    "\n",
    "#Init only required for blitting to give a clean slate.\n",
    "def init():\n",
    "    line.set_ydata(np.absolute(psi0)**2)\n",
    "    return line,\n",
    "\n",
    "ani = animation.FuncAnimation(fig, animationFunc, init_func=init, frames = T, interval=10, blit = True, repeat = True)"
   ]
  },
  {
   "cell_type": "markdown",
   "metadata": {},
   "source": [
    "#### Comments on the results\n",
    "We start with a gaussian wave packet located around $x = \\mu$ with a certain spread $\\sigma$, and an initial momentum $k_0$. The wave disperses as it propagates. Around $x = 3$ we located a potential barrier (plotted in red on the right axis). We can see that the wave partially reflects and partially transmits through the potential. The reflected wave suffers from some numerical oscillations due to the parabolic nature of the schrödinger equation and the semi-explicit Crank-Nicholson method used."
   ]
  },
  {
   "cell_type": "code",
   "execution_count": null,
   "metadata": {
    "collapsed": true
   },
   "outputs": [],
   "source": []
  }
 ],
 "metadata": {
  "kernelspec": {
   "display_name": "Python 3",
   "language": "python",
   "name": "python3"
  },
  "language_info": {
   "codemirror_mode": {
    "name": "ipython",
    "version": 3
   },
   "file_extension": ".py",
   "mimetype": "text/x-python",
   "name": "python",
   "nbconvert_exporter": "python",
   "pygments_lexer": "ipython3",
   "version": "3.5.1"
  }
 },
 "nbformat": 4,
 "nbformat_minor": 0
}
