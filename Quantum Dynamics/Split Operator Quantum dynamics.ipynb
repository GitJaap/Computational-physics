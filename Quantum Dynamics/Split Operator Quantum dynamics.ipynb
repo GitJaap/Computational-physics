{
 "cells": [
  {
   "cell_type": "markdown",
   "metadata": {},
   "source": [
    "# Quantum Dynamics Lie Suzuki Trotter"
   ]
  },
  {
   "cell_type": "markdown",
   "metadata": {},
   "source": [
    "We use a the split operator method to simulate a one dimensional wavepacket going through a gaussian potential barrier(to avoid numerical oscillations).\n",
    "Our hamiltonian has the standard time independent form(natural units):\n",
    "$$H = \\frac{p^2}{2} + V$$\n",
    "We use as starting wavefunction a gaussian wavepacket traveling to the right with momentum $p_0$. \n"
   ]
  },
  {
   "cell_type": "code",
   "execution_count": null,
   "metadata": {
    "collapsed": false
   },
   "outputs": [],
   "source": [
    "%reset -f\n",
    "import numpy as np\n",
    "import scipy.fftpack as f\n",
    "import matplotlib.pyplot as plt\n",
    "import matplotlib.animation as animation\n",
    "%matplotlib notebook \n",
    "\n",
    "#initiate x vector\n",
    "N_x = 2 ** 11 #power of two for FFT efficiency\n",
    "x_min = 0\n",
    "x_max = 7\n",
    "dx = (x_max - x_min) / N_x\n",
    "x = np.arange(x_min,x_max, dx)\n",
    "p = (np.arange(N_x)) * (2 * np.pi) / (dx * N_x)\n",
    "p[N_x // 2 : N_x] -= p[N_x - 1] + (2 * np.pi / (dx * N_x)) #Allow for negative momenta (initially ignored by DFT)\n",
    "\n",
    "\n",
    "#initiate gaussian wavepacket centered at x0\n",
    "x0 = 3.5\n",
    "sigma =0.05\n",
    "p0 = 100\n",
    "psi0 = 1/np.sqrt(sigma*np.sqrt(2*np.pi))*np.exp(-(x-x0)**2/(4*sigma**2) + 1j*p0*(x))\n",
    "\n",
    "#Gaussian barrier\n",
    "V0 = 0.9 * p0 ** 2 / 2\n",
    "V = V0 *np.exp(-(x-4)**2/0.1**2) +0j\n",
    "\n",
    "\n",
    "#create imaginary optical boundary for damping the wave when it has reached the boundary(to avoid periodical bc)\n",
    "dx_opt = 0.25 #width of boundary\n",
    "U0 = 2*V0\n",
    "x_opt = x_max - dx_opt \n",
    "opt_N = (int)(N_x * ((x_max - x_min - dx_opt) / (x_max - x_min)))\n",
    "V[opt_N:-1] = -1j * U0 * (x[opt_N:-1] - x_opt) / dx_opt\n",
    "V[0:N_x-opt_N] = 1j * U0 * (x[0:N_x-opt_N] - dx_opt) / dx_opt\n",
    "\n",
    "\n",
    "N_t = 60000\n",
    "dt = 1/2.5e6\n",
    "psi_t = np.zeros((N_t,N_x)) +0.0j\n",
    "psi_t[0,:] = psi0\n",
    "V_matrix = np.exp(-1j * dt * V)\n",
    "T_matrix = np.exp(-1j * dt * p ** 2 / 2)\n",
    "for i in range(1,N_t):\n",
    "    psi_t[i,:] = np.fft.ifft(T_matrix * np.fft.fft( V_matrix * psi_t[i-1,:]))\n"
   ]
  },
  {
   "cell_type": "code",
   "execution_count": null,
   "metadata": {
    "collapsed": false,
    "scrolled": true
   },
   "outputs": [],
   "source": [
    "plt.plot(x, abs(psi_t) ** 2 * V0)\n",
    "plt.plot(x,V.real)\n",
    "plt.plot(x,V.imag)\n",
    "plt.title('Initial situation at t=0')\n",
    "plt.xlabel('position')\n",
    "plt.ylabel('Energy / Real part of Wavefunction * V0')"
   ]
  },
  {
   "cell_type": "code",
   "execution_count": null,
   "metadata": {
    "collapsed": false,
    "scrolled": true
   },
   "outputs": [],
   "source": [
    "fig, ax = plt.subplots()\n",
    "speed_factor = 100\n",
    "line, = ax.plot(x, abs(psi0) ** 2)\n",
    "ax2 = ax.twinx()\n",
    "ax2.plot(x,V.real,'r:')\n",
    "ax2.plot(x,V.imag,'c:')\n",
    "ax.set_ylim((-max(abs(psi0) ** 2), max(abs(psi0) ** 2)))\n",
    "ax2.set_ylim((-max(abs(V.real)),max(abs(V.real))))\n",
    "\n",
    "def animationFunc(i):\n",
    "    #line.set_ydata(psi_t.real[i,:])  # update the data\n",
    "    line.set_ydata(abs(psi_t[i * speed_factor,:]) **2)\n",
    "    return line,\n",
    "\n",
    "#Init only required for blitting to give a clean slate.\n",
    "def init():\n",
    "    line.set_ydata(np.ma.array(x, mask=True))\n",
    "    return line,\n",
    "\n",
    "ani = animation.FuncAnimation(fig, animationFunc, init_func=init, frames = (int)(N_t //speed_factor),\n",
    "    interval=min(5 * speed_factor, 50), blit = True, repeat = False)\n",
    "#display_animation(ani)"
   ]
  },
  {
   "cell_type": "markdown",
   "metadata": {},
   "source": [
    "Now let's show the momemtum distribution over time"
   ]
  },
  {
   "cell_type": "code",
   "execution_count": null,
   "metadata": {
    "collapsed": false
   },
   "outputs": [],
   "source": [
    "fig, ax = plt.subplots()\n",
    "speed_factor = 150\n",
    "line, = ax.plot(p, abs(np.fft.fft(psi0)) ** 2)\n",
    "ax.set_xlabel('Momentum')\n",
    "ax.set_ylabel('FFT(psi)')\n",
    "def animationFunc(i):\n",
    "    #line.set_ydata(psi_t.real[i,:])  # update the data\n",
    "    line.set_ydata(abs((np.fft.fft(psi_t[i * speed_factor,:]))) **2)\n",
    "    return line,\n",
    "\n",
    "#Init only required for blitting to give a clean slate.\n",
    "def init():\n",
    "    line.set_ydata(np.ma.array(x, mask=True))\n",
    "    return line,\n",
    "\n",
    "ani = animation.FuncAnimation(fig, animationFunc, init_func=init, frames = (int)(N_t //speed_factor),\n",
    "    interval=50, blit = True, repeat = False)\n",
    "#display_animation(ani)"
   ]
  },
  {
   "cell_type": "code",
   "execution_count": null,
   "metadata": {
    "collapsed": false
   },
   "outputs": [],
   "source": [
    "plt.figure()\n",
    "plt.plot(p)"
   ]
  },
  {
   "cell_type": "code",
   "execution_count": null,
   "metadata": {
    "collapsed": false,
    "scrolled": true
   },
   "outputs": [],
   "source": [
    "%matplotlib notebook\n",
    "plt.plot(p, abs(np.fft.fft(psi0)) ** 2)\n",
    "plt.show()"
   ]
  },
  {
   "cell_type": "code",
   "execution_count": null,
   "metadata": {
    "collapsed": false
   },
   "outputs": [],
   "source": [
    "%reset -f\n",
    "import numpy as np\n",
    "import scipy.fftpack as f\n",
    "import matplotlib.pyplot as plt\n",
    "import matplotlib.animation as animation\n",
    "%matplotlib notebook \n",
    "\n",
    "#initiate x vector\n",
    "N_x = 2 ** 11 #power of two for FFT efficiency\n",
    "x_min = -10\n",
    "x_max = 10\n",
    "dx = (x_max - x_min) / N_x\n",
    "x = np.arange(x_min,x_max, dx)\n",
    "p = (np.arange(N_x)) * (2 * np.pi) / (dx * N_x)\n",
    "p[N_x // 2 : -1] = p[N_x // 2 : -1] - p[N_x-1] - (2 * np.pi / (dx * N_x))\n",
    "\n",
    "#create potential well around -a,a\n",
    "a = 2\n",
    "V0 = 2000\n",
    "V = np.zeros(N_x) +0j\n",
    "left_N = (int)(N_x * (-(x_min + a) / (x_max - x_min)))\n",
    "right_N = (int)(left_N + N_x * 2 * a / (x_max - x_min))\n",
    "V[left_N : right_N] =  V0\n",
    "\n",
    "#Gaussian well\n",
    "#V = 900*np.exp(-(x-3)**2/0.3**2)\n",
    "\n",
    "#create imaginary optical boundary for damping the wave when it has reached the boundary\n",
    "dx_opt = 10 #width of boundary\n",
    "U0 = 1\n",
    "x_opt = x_max - dx_opt \n",
    "opt_N = (int)(N_x * ((x_max - x_min - dx_opt) / (x_max - x_min)))\n",
    "#V[opt_N:-1] = -1j * U0 * (x[opt_N:-1] - x_opt) / dx_opt\n",
    "\n",
    "#initiate gaussian wavepacket centered at x0\n",
    "x0 = -3\n",
    "sigma =0.05\n",
    "\n",
    "p0 = 50\n",
    "psi0 = 1/np.sqrt(sigma*np.sqrt(2*np.pi))*np.exp(-(x-x0)**2/(4*sigma**2) + 1j*p0*(x))\n",
    "\n",
    "\n",
    "N_t = 1200\n",
    "dt = 1/10000\n",
    "psi_t = np.zeros((N_t,N_x)) +0.0j\n",
    "psi_t[0,:] = psi0\n",
    "V_matrix = np.exp(-1j * dt * V)\n",
    "T_matrix = np.exp(-1j * dt * p ** 2 / 2)\n",
    "for i in range(1,N_t):\n",
    "    psi_t[i,:] = np.fft.ifft(T_matrix * np.fft.fft( V_matrix * psi_t[i-1,:]))\n"
   ]
  },
  {
   "cell_type": "code",
   "execution_count": null,
   "metadata": {
    "collapsed": false
   },
   "outputs": [],
   "source": [
    "print(V_matrix)"
   ]
  },
  {
   "cell_type": "code",
   "execution_count": null,
   "metadata": {
    "collapsed": true
   },
   "outputs": [],
   "source": []
  },
  {
   "cell_type": "code",
   "execution_count": null,
   "metadata": {
    "collapsed": true
   },
   "outputs": [],
   "source": []
  }
 ],
 "metadata": {
  "kernelspec": {
   "display_name": "Python 3",
   "language": "python",
   "name": "python3"
  },
  "language_info": {
   "codemirror_mode": {
    "name": "ipython",
    "version": 3
   },
   "file_extension": ".py",
   "mimetype": "text/x-python",
   "name": "python",
   "nbconvert_exporter": "python",
   "pygments_lexer": "ipython3",
   "version": "3.5.1"
  }
 },
 "nbformat": 4,
 "nbformat_minor": 0
}
