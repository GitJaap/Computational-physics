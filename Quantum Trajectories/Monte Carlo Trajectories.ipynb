{
 "cells": [
  {
   "cell_type": "code",
   "execution_count": 120,
   "metadata": {
    "collapsed": true
   },
   "outputs": [],
   "source": [
    "import numpy as np\n",
    "import matplotlib.pyplot as plt\n",
    "import scipy.linalg\n",
    "import scipy.stats\n",
    "%matplotlib inline"
   ]
  },
  {
   "cell_type": "code",
   "execution_count": 121,
   "metadata": {
    "collapsed": true
   },
   "outputs": [],
   "source": [
    "#quantum trajectories decoherence \n",
    "#CASE 1 Ladder Operators\n",
    "omega = 2\n",
    "dt = 1e-2\n",
    "N_w = 1\n",
    "N_steps = int(1e3)\n",
    "\n",
    "#define basis\n",
    "base = np.array([[1,0],[0,1]])\n",
    "coefficients = np.array([1 / np.sqrt(2), 1 / np.sqrt(2)])\n",
    "\n",
    "#define jump operators + gammas\n",
    "F = np.array([[[0,0],[1,0]],[[0,1],[0,0]]],dtype = \"complex\")\n",
    "gamma = np.array([0,0.5])"
   ]
  },
  {
   "cell_type": "code",
   "execution_count": 104,
   "metadata": {
    "collapsed": true
   },
   "outputs": [],
   "source": [
    "#quantum trajectories decoherence \n",
    "#CASE 2 Random relative phase due to in intensity fluctuating photon noise\n",
    "theta = 0.2 # random phase shift strength\n",
    "omega = 1\n",
    "dt = 1e-2\n",
    "N_w = 1\n",
    "N_steps = int(1e3)\n",
    "\n",
    "#define basis\n",
    "base = np.array([[1,0],[0,1]])\n",
    "coefficients = np.array([1 / np.sqrt(2), 1 / np.sqrt(2)])\n",
    "\n",
    "#define jump operators + gammas\n",
    "F = np.array([[[1,0],[0,np.exp(1j * theta)]],[[1,0],[0,np.exp(-1j * theta)]]],dtype = \"complex\")\n",
    "gamma = np.array([2,2])"
   ]
  },
  {
   "cell_type": "code",
   "execution_count": 105,
   "metadata": {
    "collapsed": true
   },
   "outputs": [],
   "source": [
    "#quantum trajectories decoherence \n",
    "#CASE 3 Phase flip due to quantum jumps\n",
    "theta = np.pi # random phase shift strength\n",
    "omega = 1\n",
    "dt = 1e-2\n",
    "N_w = 600\n",
    "N_steps = int(1e3)\n",
    "\n",
    "#define basis\n",
    "base = np.array([[1,0],[0,1]])\n",
    "coefficients = np.array([1 / np.sqrt(2), 1 / np.sqrt(2)])\n",
    "\n",
    "#define jump operators + gammas\n",
    "F = np.array([[[1,0],[0,-1]]],dtype = \"complex\")\n",
    "gamma = np.array([0.5])"
   ]
  },
  {
   "cell_type": "code",
   "execution_count": 118,
   "metadata": {
    "collapsed": false
   },
   "outputs": [],
   "source": [
    "Sz =  np.array([[1,0],[0,-1]])\n",
    "Sx =  np.array([[0,1],[1,0]])\n",
    "#initiate walkers\n",
    "psi0 = sum(coefficients[:,None] * base)\n",
    "walkers = np.ones((N_w,2)) * psi0\n",
    "\n",
    "S = gamma[:,None, None] * np.einsum('...ji,...jk->...ik',F.conj(),F, dtype=\"complex\")\n",
    "\n",
    "S_sum = np.sum(S,axis = 0)\n",
    "\n",
    "H = omega * Sz + -1j * S_sum\n",
    "\n",
    "U = scipy.linalg.expm(-1j * H * dt)\n",
    "A = np.zeros(((np.size(F,axis=0)+1),np.size(F,axis = 1), np.size(F,axis = 2)),dtype=\"complex\") #jump+unitary matrix set\n",
    "A[0,:,:] = U\n",
    "A[1:,:,:] = F\n",
    "\n",
    "psi_avg = np.zeros((N_steps,np.size(psi0)),dtype = \"complex\")\n",
    "x_spin = np.zeros((N_steps))\n",
    "z_spin = np.zeros((N_steps))\n",
    "S_rho = np.zeros((N_steps))\n",
    "for i in range(0,N_steps):\n",
    "    p_jump = np.einsum('hi,...ij,hj->h...' , walkers.conj(), S, walkers).real * dt\n",
    "    p_sum = np.sum(p_jump,axis = 1)\n",
    "\n",
    "    #for each jump take a random jump matrix\n",
    "    p = np.zeros((N_w, np.size(F,axis=0)+1))\n",
    "    p[:,1:]  = p_jump\n",
    "    p[:,0] = 1 - p_sum #add extra column to p_jump with 1-p_sum\n",
    "    \n",
    "    x_k = np.arange(np.size(F,axis=0)+1)\n",
    "    choice = np.zeros((N_w),dtype='int')\n",
    "    for j in range(0, N_w):\n",
    "        choice[j] = np.random.choice(x_k, 1 , p=p[j,:] )\n",
    "\n",
    "    walkers = np.einsum('hij, hj -> hi',A[choice,:,:],walkers)\n",
    "    walkers /= np.linalg.norm(walkers,axis = 1, keepdims = True)\n",
    "    \n",
    "    # Compute Von Neumann entropy\n",
    "    rho = np.einsum('ki,kj',walkers,walkers.conj()) / N_w\n",
    "    eigs = np.linalg.eigvalsh(rho)\n",
    "    \n",
    "    \n",
    "    eigs[eigs<1e-99] = 0\n",
    "    eigs = np.trim_zeros(np.sort(eigs))  # Trim zeros or very small numbers from eigenvalues to avoid computing 0*log(0)\n",
    "    \n",
    "    S_rho[i] = -eigs.dot(np.log2(eigs))\n",
    "    \n",
    "    x_spin[i] = np.einsum('hi,ij,hj', walkers.conj(), Sx, walkers).real / N_w\n",
    "    z_spin[i] = np.einsum('hi,ij,hj', walkers.conj(), Sz, walkers).real / N_w"
   ]
  },
  {
   "cell_type": "code",
   "execution_count": 122,
   "metadata": {
    "collapsed": false
   },
   "outputs": [
    {
     "data": {
      "text/plain": [
       "[<matplotlib.lines.Line2D at 0x1ffa70369b0>]"
      ]
     },
     "execution_count": 122,
     "metadata": {},
     "output_type": "execute_result"
    },
    {
     "data": {
      "image/png": "[encoded data removed]",
      "text/plain": [
       "<matplotlib.figure.Figure at 0x1ffa4bdfd68>"
      ]
     },
     "metadata": {},
     "output_type": "display_data"
    }
   ],
   "source": [
    "plt.plot(x_spin)\n",
    "plt.plot(z_spin)\n",
    "plt.plot(S_rho)"
   ]
  },
  {
   "cell_type": "code",
   "execution_count": null,
   "metadata": {
    "collapsed": true
   },
   "outputs": [],
   "source": []
  }
 ],
 "metadata": {
  "kernelspec": {
   "display_name": "Python 3",
   "language": "python",
   "name": "python3"
  },
  "language_info": {
   "codemirror_mode": {
    "name": "ipython",
    "version": 3
   },
   "file_extension": ".py",
   "mimetype": "text/x-python",
   "name": "python",
   "nbconvert_exporter": "python",
   "pygments_lexer": "ipython3",
   "version": "3.5.1"
  }
 },
 "nbformat": 4,
 "nbformat_minor": 0
}
