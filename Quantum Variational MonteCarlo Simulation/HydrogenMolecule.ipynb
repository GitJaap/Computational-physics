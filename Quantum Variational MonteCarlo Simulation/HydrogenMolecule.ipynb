{
 "cells": [
  {
   "cell_type": "markdown",
   "metadata": {},
   "source": [
    "# Variational monte carlo simulation for Hydrogen Molecule"
   ]
  },
  {
   "cell_type": "code",
   "execution_count": 31,
   "metadata": {
    "collapsed": false
   },
   "outputs": [],
   "source": [
    "import numpy as np\n",
    "from matplotlib import pyplot as plt\n",
    "from scipy.optimize import fsolve\n",
    "%matplotlib inline"
   ]
  },
  {
   "cell_type": "code",
   "execution_count": 32,
   "metadata": {
    "collapsed": false
   },
   "outputs": [],
   "source": [
    "def wavefunc(r,pars):\n",
    "    s = pars[0]; a = pars[1]; beta = pars[2];\n",
    "    r1 = r[:,0:3]\n",
    "    r2 = r[:,3:6]\n",
    "    r1L = np.linalg.norm(r1 + np.array([s/2, 0, 0]),axis=1) \n",
    "    r1R = np.linalg.norm(r1 - np.array([s/2, 0, 0]),axis=1)\n",
    "    r2L = np.linalg.norm(r2 + np.array([s/2, 0, 0]),axis=1) \n",
    "    r2R = np.linalg.norm(r2 - np.array([s/2, 0, 0]),axis=1)\n",
    "    r12 = np.linalg.norm(r1-r2,axis=1)\n",
    "    psi = (np.exp(-r1L/a) + np.exp(-r1R/a)) * (np.exp(-r2L/a) + np.exp(-r2R/a)) * np.exp(r12/(2*(1+beta*r12)))\n",
    "    return psi\n",
    "    \n",
    "def updateWalker(r,N,pars):\n",
    "    dis = np.random.normal(0,d,(N,6)) #proposed displacement\n",
    "    p = (wavefunc(r+dis,pars)/wavefunc(r,pars))**2\n",
    "    rnd = np.random.rand(N)\n",
    "    r += (rnd<p)[:,None]*dis\n",
    "    \n",
    "def EL(r,pars):\n",
    "    s = pars[0]; a = pars[1]; beta = pars[2];\n",
    "    r1 = r[:,0:3]\n",
    "    r2 = r[:,3:6]\n",
    "    r1L = np.linalg.norm(r1 + np.array([s/2, 0, 0]),axis=1) \n",
    "    r1R = np.linalg.norm(r1 - np.array([s/2, 0, 0]),axis=1)\n",
    "    r2L = np.linalg.norm(r2 + np.array([s/2, 0, 0]),axis=1) \n",
    "    r2R = np.linalg.norm(r2 - np.array([s/2, 0, 0]),axis=1)\n",
    "    r12 = np.linalg.norm(r1-r2,axis=1)\n",
    "    psi1L = np.exp(-r1L/a)\n",
    "    psi1R = np.exp(-r1R/a)\n",
    "    psi2L = np.exp(-r2L/a)\n",
    "    psi2R = np.exp(-r2R/a)\n",
    "    psi1 = psi1L+psi1R\n",
    "    psi2 = psi2L+psi2R\n",
    "    \n",
    "    q1L = np.sum((r1 + np.array([s/2, 0, 0]))*(r1-r2),axis=1)/(r1L*r12)  #r1L_hat  dot  r12_hat\n",
    "    q1R = np.sum((r1 - np.array([s/2, 0, 0]))*(r1-r2),axis=1)/(r1R*r12)  #r1R_hat  dot  r12_hat\n",
    "    q2L = np.sum((r2 + np.array([s/2, 0, 0]))*(r1-r2),axis=1)/(r2L*r12)  #r2L_hat  dot  r12_hat\n",
    "    q2R = np.sum((r2 - np.array([s/2, 0, 0]))*(r1-r2),axis=1)/(r2R*r12)  #r2R_hat  dot  r12_hat\n",
    "    \n",
    "    Eloc = -1/(a*a) + (psi1L/r1L + psi1R/r1R)/(a*psi1) + (psi2L/r2L + psi2R/r2R)/(a*psi2) - (1/r1L + 1/r1R + 1/r2L + 1/r2R) \\\n",
    "        + 1/r12 + ((psi1L*q1L+psi1R*q1R)/psi1 - (psi2L*q2L+psi2R*q2R)/psi2)/(2*a*(1+beta*r12)**2) \\\n",
    "        - ((4*beta+1)*r12+4)/(4*r12*(1+beta*r12)**4)\n",
    "    \n",
    "    return Eloc\n",
    "\n",
    "def updateVarParams(R,EL,pars,gamma):\n",
    "    beta = pars[2]\n",
    "    R12 = np.linalg.norm(R[:,0:3]-R[:,3:6],axis=1)\n",
    "    dlnpsida = -R12**2 / (2*(1+beta*R12)**2)\n",
    "    dEda = 2 * (np.mean(EL*dlnpsida)-np.mean(EL)*np.mean(dlnpsida))\n",
    "    beta -= gamma*dEda\n",
    "    pars[2] = beta\n",
    "    return pars, dEda"
   ]
  },
  {
   "cell_type": "code",
   "execution_count": 37,
   "metadata": {
    "collapsed": false
   },
   "outputs": [
    {
     "name": "stdout",
     "output_type": "stream",
     "text": [
      "pars =  [1.4, 0.84089397653308773, 0.6]\n",
      "<E> =  -1.86535731928\n",
      "Var(EL) =  0.05217409125\n",
      "dEda =  0.000966605728005\n",
      "\n",
      "Maximum number of iterations reached. No optimal variational parameter may be found up to the required precision\n"
     ]
    }
   ],
   "source": [
    "N = 400 #Number of walkers\n",
    "T = 26000 #Number of displacement attempts per walker\n",
    "T0 = 4000 #Reject first T0 timesteps from averaging\n",
    "\n",
    "#Variational parameters\n",
    "# alpha = 2 is hard-coded into all functions\n",
    "s = 1.4\n",
    "beta = 0.6\n",
    "impl_cond = lambda a : a*(1+np.exp(-s/a)) - 1\n",
    "a = fsolve(impl_cond,0.9)[0] #find a from a numerically using the above constraint\n",
    "pars = [s,a,beta]\n",
    "\n",
    "d = 1/2 #mean step length\n",
    "gamma = .9 #damped steepest descent parameter\n",
    "epsilon = 1e-6 # tolerance on derivative \n",
    "itmax = 1; #max number of optimization iterations\n",
    "\n",
    "dEda = 2; it = 0;\n",
    "while((abs(dEda) >= epsilon) & (it<itmax)):\n",
    "    r = np.random.uniform(-s-2*a,s+2*a,(N,6))\n",
    "    R = np.empty((T*N,6))\n",
    "    \n",
    "    for t in range(0,T0):\n",
    "        updateWalker(r,N,pars)\n",
    "        \n",
    "    for t in range(0,T):\n",
    "        updateWalker(r,N,pars)\n",
    "        R[t*N:(t+1)*N,:] = r\n",
    "        \n",
    "    Eloc = EL(R,pars)\n",
    "    E = np.mean(Eloc)\n",
    "    VarE = np.var(Eloc)\n",
    "    print('pars = ',pars)\n",
    "    print('<E> = ',E)\n",
    "    print('Var(EL) = ',VarE)\n",
    "    pars, dEda = updateVarParams(R,Eloc,pars,gamma)\n",
    "    print('dEda = ', dEda)\n",
    "    print('')\n",
    "    it+=1\n",
    "    \n",
    "\n",
    "\n",
    "if it==itmax:\n",
    "    print('Maximum number of iterations reached. No optimal variational parameter may be found up to the required precision')"
   ]
  },
  {
   "cell_type": "code",
   "execution_count": null,
   "metadata": {
    "collapsed": true
   },
   "outputs": [],
   "source": []
  }
 ],
 "metadata": {
  "kernelspec": {
   "display_name": "Python 3",
   "language": "python",
   "name": "python3"
  },
  "language_info": {
   "codemirror_mode": {
    "name": "ipython",
    "version": 3
   },
   "file_extension": ".py",
   "mimetype": "text/x-python",
   "name": "python",
   "nbconvert_exporter": "python",
   "pygments_lexer": "ipython3",
   "version": "3.5.1"
  }
 },
 "nbformat": 4,
 "nbformat_minor": 0
}
