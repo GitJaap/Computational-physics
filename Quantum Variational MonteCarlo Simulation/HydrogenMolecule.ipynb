{
 "cells": [
  {
   "cell_type": "markdown",
   "metadata": {},
   "source": [
    "# Variational monte carlo simulation for Hydrogen Molecule"
   ]
  },
  {
   "cell_type": "code",
   "execution_count": 71,
   "metadata": {
    "collapsed": false
   },
   "outputs": [],
   "source": [
    "import numpy as np\n",
    "from matplotlib import pyplot as plt\n",
    "from scipy.optimize import fsolve\n",
    "# %matplotlib inline"
   ]
  },
  {
   "cell_type": "markdown",
   "metadata": {},
   "source": [
    "### Function definitions"
   ]
  },
  {
   "cell_type": "code",
   "execution_count": 80,
   "metadata": {
    "collapsed": false
   },
   "outputs": [],
   "source": [
    "# Compute wavefunction\n",
    "def wavefunc(r,pars):\n",
    "    s = pars[0]; a = pars[1]; beta = pars[2];\n",
    "    r1 = r[:,0:3]\n",
    "    r2 = r[:,3:6]\n",
    "    r1L = np.linalg.norm(r1 + np.array([s/2, 0, 0]),axis=1) \n",
    "    r1R = np.linalg.norm(r1 - np.array([s/2, 0, 0]),axis=1)\n",
    "    r2L = np.linalg.norm(r2 + np.array([s/2, 0, 0]),axis=1) \n",
    "    r2R = np.linalg.norm(r2 - np.array([s/2, 0, 0]),axis=1)\n",
    "    r12 = np.linalg.norm(r1-r2,axis=1)\n",
    "    psi = (np.exp(-r1L/a) + np.exp(-r1R/a)) * (np.exp(-r2L/a) + np.exp(-r2R/a)) * np.exp(r12/(2*(1+beta*r12)))\n",
    "    return psi\n",
    "\n",
    "# Update N walkers 1 step\n",
    "def updateWalker(r,N,d,pars):\n",
    "    dis = np.random.normal(0,d,(N,6)) #proposed displacement\n",
    "    p = (wavefunc(r+dis,pars)/wavefunc(r,pars))**2\n",
    "    rnd = np.random.rand(N)\n",
    "    r += (rnd<p)[:,None]*dis\n",
    "\n",
    "# Compute local energy\n",
    "def EL(r,pars):\n",
    "    s = pars[0]; a = pars[1]; beta = pars[2];\n",
    "    r1 = r[:,0:3]\n",
    "    r2 = r[:,3:6]\n",
    "    r1L = np.linalg.norm(r1 + np.array([s/2, 0, 0]),axis=1) \n",
    "    r1R = np.linalg.norm(r1 - np.array([s/2, 0, 0]),axis=1)\n",
    "    r2L = np.linalg.norm(r2 + np.array([s/2, 0, 0]),axis=1) \n",
    "    r2R = np.linalg.norm(r2 - np.array([s/2, 0, 0]),axis=1)\n",
    "    r12 = np.linalg.norm(r1-r2,axis=1)\n",
    "    psi1L = np.exp(-r1L/a)\n",
    "    psi1R = np.exp(-r1R/a)\n",
    "    psi2L = np.exp(-r2L/a)\n",
    "    psi2R = np.exp(-r2R/a)\n",
    "    psi1 = psi1L+psi1R\n",
    "    psi2 = psi2L+psi2R\n",
    "    \n",
    "    q1L = np.sum((r1 + np.array([s/2, 0, 0]))*(r1-r2),axis=1)/(r1L*r12)  #r1L_hat  dot  r12_hat\n",
    "    q1R = np.sum((r1 - np.array([s/2, 0, 0]))*(r1-r2),axis=1)/(r1R*r12)  #r1R_hat  dot  r12_hat\n",
    "    q2L = np.sum((r2 + np.array([s/2, 0, 0]))*(r1-r2),axis=1)/(r2L*r12)  #r2L_hat  dot  r12_hat\n",
    "    q2R = np.sum((r2 - np.array([s/2, 0, 0]))*(r1-r2),axis=1)/(r2R*r12)  #r2R_hat  dot  r12_hat\n",
    "    \n",
    "    Eloc = -1/(a*a) + (psi1L/r1L + psi1R/r1R)/(a*psi1) + (psi2L/r2L + psi2R/r2R)/(a*psi2) - (1/r1L + 1/r1R + 1/r2L + 1/r2R) \\\n",
    "        + 1/r12 + ((psi1L*q1L+psi1R*q1R)/psi1 - (psi2L*q2L+psi2R*q2R)/psi2)/(2*a*(1+beta*r12)**2) \\\n",
    "        - ((4*beta+1)*r12+4)/(4*r12*(1+beta*r12)**4) + 1/s\n",
    "    \n",
    "    return Eloc\n",
    "\n",
    "#Update variational parameters\n",
    "def updateVarParams(R,EL,pars,gamma):\n",
    "    beta = pars[2]\n",
    "    R12 = np.linalg.norm(R[:,0:3]-R[:,3:6],axis=1)\n",
    "    dlnpsida = -R12**2 / (2*(1+beta*R12)**2)\n",
    "    dEda = 2 * (np.mean(EL*dlnpsida)-np.mean(EL)*np.mean(dlnpsida))\n",
    "    beta -= gamma*dEda\n",
    "    pars[2] = beta\n",
    "    return pars, dEda\n",
    "\n",
    "#One VMC simulation\n",
    "def VMC(pars,N,T,T0,gamma):\n",
    "    s = pars[0]; a = pars[1];\n",
    "    r = np.random.uniform(-s-2*a,s+2*a,(N,6)) #init walkers\n",
    "    R = np.empty((T*N,6))\n",
    "\n",
    "    for t in range(0,T0):\n",
    "        updateWalker(r,N,d,pars)\n",
    "\n",
    "    for t in range(0,T):\n",
    "        updateWalker(r,N,d,pars)\n",
    "        R[t*N:(t+1)*N,:] = r\n",
    "\n",
    "    Eloc = EL(R,pars)\n",
    "    E = np.mean(Eloc)\n",
    "    VarE = np.var(Eloc)  \n",
    "        \n",
    "    return E, VarE, Eloc, R\n",
    "\n",
    "    "
   ]
  },
  {
   "cell_type": "markdown",
   "metadata": {},
   "source": [
    "### Optimization routine over beta, for various s"
   ]
  },
  {
   "cell_type": "code",
   "execution_count": 192,
   "metadata": {
    "collapsed": false
   },
   "outputs": [],
   "source": [
    "N = 400 #Number of walkers\n",
    "T = 26000 #Number of displacement attempts per walker\n",
    "T0 = 4000 #Reject first T0 timesteps from averaging\n",
    "\n",
    "d = 1/2 #mean step length\n",
    "gamma = 10 #step size in gradient descent method\n",
    "\n",
    "#Variational parameters\n",
    "# alpha = 2 is hard-coded into all functions\n",
    "srnge = np.arange(1.0,1.85,0.05)\n",
    "\n",
    "#Parameter optimization variables\n",
    "epsilon = 1e-4 # tolerance on derivative \n",
    "itmax = 10 #max number of optimization iterations\n",
    "\n",
    "repeat = 5\n",
    "res = [];\n",
    "for s in srnge:\n",
    "    beta = 0.6 #initial guess for beta\n",
    "    impl_cond = lambda a : a*(1+np.exp(-s/a)) - 1\n",
    "    a = fsolve(impl_cond,0.9)[0] #find a numerically using the above constraint\n",
    "    pars = [s,a,beta]\n",
    "    \n",
    "    # Optimize for beta\n",
    "    dEda = 2; it = 0;\n",
    "    while((abs(dEda) >= epsilon) & (it<itmax)):\n",
    "        E, VarE, Eloc,R = VMC(pars,N,T,T0,gamma)\n",
    "        pars, dEda = updateVarParams(R,Eloc,pars,gamma)\n",
    "        it=it+1\n",
    "    \n",
    "    # Repeat couple of times at optimal beta for error est.\n",
    "    E = np.empty(repeat);    \n",
    "    for i in range(repeat):\n",
    "        E[i] = VMC(pars,N,T,T0,gamma)[0]\n",
    "        \n",
    "    res.append([np.mean(E), np.std(E), pars[0], pars[1], pars[2]])\n",
    "        \n",
    "res = np.array(res)\n",
    "        "
   ]
  },
  {
   "cell_type": "code",
   "execution_count": 212,
   "metadata": {
    "collapsed": false
   },
   "outputs": [],
   "source": [
    "# Produce plot of s vs E at optimal beta\n",
    "fig = plt.figure()\n",
    "ax1 = fig.add_subplot(111)\n",
    "ax1.errorbar(res[:,2],res[:,0],yerr=2*res[:,1],color='k')\n",
    "ax1.set_xlabel(r'$s$')\n",
    "ax1.set_ylabel(r'$E$')\n",
    "ax1.set_xlim(1,1.8)\n",
    "\n",
    "ax2 = ax1.twinx()\n",
    "ax2.plot(res[:,2],res[:,4],'r:x')\n",
    "ax2.set_ylabel(r'$\\beta$', color='r')\n",
    "for tl in ax2.get_yticklabels():\n",
    "    tl.set_color('r')\n",
    "ax2.set_xlim(1,1.8)\n",
    "plt.show()"
   ]
  },
  {
   "cell_type": "markdown",
   "metadata": {},
   "source": [
    "### Routine that loops over s and beta (without optimization of parameters)\n"
   ]
  },
  {
   "cell_type": "code",
   "execution_count": 155,
   "metadata": {
    "collapsed": false
   },
   "outputs": [],
   "source": [
    "N = 200 #Number of walkers\n",
    "T = 13000 #Number of displacement attempts per walker\n",
    "T0 = 4000 #Reject first T0 timesteps from averaging\n",
    "\n",
    "d = 1/2 #mean step length\n",
    "gamma = 10 #step size in gradient descent method\n",
    "\n",
    "#Variational parameters\n",
    "# alpha = 2 is hard-coded into all functions\n",
    "srnge = np.arange(1.0,1.85,0.05)\n",
    "betarnge = [0.2, 0.3, 0.4, 0.5, 0.6, 0.7, 0.8, 1.0, 1.2, 1.4]\n",
    "\n",
    "repeat = 1\n",
    "res = [];\n",
    "for s in srnge:\n",
    "    E = np.empty(repeat);\n",
    "    for beta in betarnge:\n",
    "        impl_cond = lambda a : a*(1+np.exp(-s/a)) - 1\n",
    "        a = fsolve(impl_cond,0.9)[0] #find a from a numerically using the above constraint\n",
    "        pars = [s,a,beta]\n",
    "        \n",
    "        for i in range(repeat):\n",
    "            E[i] = VMC(pars,N,T,T0,gamma)[0]\n",
    "        \n",
    "        res.append([np.mean(E), np.std(E), s, a, beta])\n",
    "        \n",
    "res = np.array(res)\n",
    "        "
   ]
  },
  {
   "cell_type": "code",
   "execution_count": 133,
   "metadata": {
    "collapsed": false
   },
   "outputs": [],
   "source": [
    "# Produce plot 2D for beta vs E at fixed s\n",
    "fig = plt.figure()\n",
    "plt.errorbar(res[:,4],res[:,0],yerr=2*res[:,1])\n",
    "plt.xlabel(r'$\\beta$')\n",
    "plt.ylabel(r'$E$')\n",
    "plt.show()"
   ]
  },
  {
   "cell_type": "code",
   "execution_count": 188,
   "metadata": {
    "collapsed": false
   },
   "outputs": [],
   "source": [
    "# Produce plot 3D for various beta and s\n",
    "from mpl_toolkits.mplot3d import Axes3D\n",
    "from matplotlib import cm\n",
    "\n",
    "fig = plt.figure()\n",
    "ax = fig.gca(projection='3d')\n",
    "ax.plot_trisurf(res[:,2], res[:,4], res[:,0], cmap=cm.jet, linewidth=0.2)\n",
    "ax.set_xlim(1,1.8)\n",
    "ax.set_ylim(0,1.4)\n",
    "plt.xlabel(r'$s$')\n",
    "plt.ylabel(r'$\\beta$')\n",
    "plt.show()\n"
   ]
  },
  {
   "cell_type": "code",
   "execution_count": null,
   "metadata": {
    "collapsed": true
   },
   "outputs": [],
   "source": []
  }
 ],
 "metadata": {
  "kernelspec": {
   "display_name": "Python 3",
   "language": "python",
   "name": "python3"
  },
  "language_info": {
   "codemirror_mode": {
    "name": "ipython",
    "version": 3
   },
   "file_extension": ".py",
   "mimetype": "text/x-python",
   "name": "python",
   "nbconvert_exporter": "python",
   "pygments_lexer": "ipython3",
   "version": "3.5.1"
  }
 },
 "nbformat": 4,
 "nbformat_minor": 0
}
