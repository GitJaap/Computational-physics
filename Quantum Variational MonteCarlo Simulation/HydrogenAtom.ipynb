{
 "cells": [
  {
   "cell_type": "markdown",
   "metadata": {},
   "source": [
    "# Variational monte carlo simulation for Hydrogen Atom"
   ]
  },
  {
   "cell_type": "code",
   "execution_count": 77,
   "metadata": {
    "collapsed": false
   },
   "outputs": [],
   "source": [
    "import numpy as np\n",
    "from matplotlib import pyplot as plt\n",
    "%matplotlib inline"
   ]
  },
  {
   "cell_type": "code",
   "execution_count": 78,
   "metadata": {
    "collapsed": false
   },
   "outputs": [],
   "source": [
    "def wavefunc(pos,a):\n",
    "    return np.exp(-a*np.linalg.norm(pos,axis=1))\n",
    "\n",
    "def updateWalker(pos,N,a):\n",
    "    dis = np.random.normal(0,d,(N,3)) #proposed displacement\n",
    "    p = (wavefunc(pos+dis,a)/wavefunc(pos,a))**2\n",
    "    rnd = np.random.rand(N)\n",
    "    pos += (rnd<p)[:,None]*dis\n",
    "    \n",
    "def EL(pos,a):\n",
    "    r = np.linalg.norm(pos,axis=1)\n",
    "    return -1/r - a/2 * (a - 2/r)\n",
    "\n",
    "def updateVarParams(R,EL,a,gamma):\n",
    "    r = np.linalg.norm(R,axis=1)\n",
    "    dEda = 2 * (np.mean(-r*EL)-EL.mean()*np.mean(-r))\n",
    "    return a - gamma * dEda, dEda"
   ]
  },
  {
   "cell_type": "code",
   "execution_count": 80,
   "metadata": {
    "collapsed": false
   },
   "outputs": [
    {
     "name": "stdout",
     "output_type": "stream",
     "text": [
      "a =  0.8  <E> =  -0.480095342728  Var(EL) =  0.025036089327\n",
      "a =  1.00036561275  <E> =  -0.499999605848  Var(EL) =  1.28880572289e-07\n",
      "a =  1.00000063127  <E> =  -0.500000000499  Var(EL) =  3.86820441192e-13\n",
      "a =  0.999999999045  <E> =  -0.5  Var(EL) =  8.98112963382e-19\n",
      "a =  1.0  <E> =  -0.5  Var(EL) =  1.52935178404e-24\n",
      "a =  1.0  <E> =  -0.5  Var(EL) =  3.93354811611e-29\n"
     ]
    }
   ],
   "source": [
    "N = 400 #Number of walkers\n",
    "T = 26000 #Number of displacement attempts per walker\n",
    "T0 = 4000 #Reject first T0 timesteps from averaging\n",
    "\n",
    "#Variational parameters\n",
    "a = 0.8\n",
    "\n",
    "d = a/2 #mean step length\n",
    "gamma = 1 #damped steepest descent parameter\n",
    "epsilon = 1e-12 # tolerance on derivative \n",
    "itmax = 12; #max number of optimization iterations\n",
    "\n",
    "dEda = 2; it = 0;\n",
    "while((abs(dEda) >= epsilon) & (it<itmax)):\n",
    "    r = np.random.uniform(-2*a,2*a,(N,3))\n",
    "    R = np.empty((T*N,3))\n",
    "    \n",
    "    for t in range(0,T0):\n",
    "        updateWalker(r,N,a)\n",
    "        \n",
    "    for t in range(0,T):\n",
    "        updateWalker(r,N,a)\n",
    "        R[t*N:(t+1)*N,:] = r\n",
    "        \n",
    "    Eloc = EL(R,a)\n",
    "    E = np.mean(Eloc)\n",
    "    VarE = np.var(Eloc)\n",
    "    print('a = ',a,' <E> = ',E,' Var(EL) = ',VarE)\n",
    "    a, dEda = updateVarParams(R,Eloc,a,gamma)\n",
    "    it+=1\n",
    "    \n",
    "\n",
    "\n",
    "if it==itmax:\n",
    "    print('Maximum number of iterations reached. No optimal variational parameter may be found up to the required precision')"
   ]
  },
  {
   "cell_type": "code",
   "execution_count": null,
   "metadata": {
    "collapsed": false
   },
   "outputs": [],
   "source": []
  },
  {
   "cell_type": "code",
   "execution_count": null,
   "metadata": {
    "collapsed": false
   },
   "outputs": [],
   "source": []
  },
  {
   "cell_type": "code",
   "execution_count": null,
   "metadata": {
    "collapsed": false
   },
   "outputs": [],
   "source": []
  },
  {
   "cell_type": "code",
   "execution_count": null,
   "metadata": {
    "collapsed": true
   },
   "outputs": [],
   "source": []
  }
 ],
 "metadata": {
  "kernelspec": {
   "display_name": "Python 3",
   "language": "python",
   "name": "python3"
  },
  "language_info": {
   "codemirror_mode": {
    "name": "ipython",
    "version": 3
   },
   "file_extension": ".py",
   "mimetype": "text/x-python",
   "name": "python",
   "nbconvert_exporter": "python",
   "pygments_lexer": "ipython3",
   "version": "3.5.1"
  }
 },
 "nbformat": 4,
 "nbformat_minor": 0
}
