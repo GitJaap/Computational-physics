{
 "cells": [
  {
   "cell_type": "markdown",
   "metadata": {},
   "source": [
    "# Variational monte carlo simulation for 1D harmonic oscillator."
   ]
  },
  {
   "cell_type": "code",
   "execution_count": 57,
   "metadata": {
    "collapsed": false
   },
   "outputs": [
    {
     "name": "stdout",
     "output_type": "stream",
     "text": [
      "The local energy equals:  0.508335684791 \n",
      "With uncertainty:  0.0168132451041\n"
     ]
    },
    {
     "data": {
      "image/png": "[encoded data removed]",
      "text/plain": [
       "<matplotlib.figure.Figure at 0x936ba90>"
      ]
     },
     "metadata": {},
     "output_type": "display_data"
    }
   ],
   "source": [
    "import numpy as np\n",
    "from matplotlib import pyplot as plt\n",
    "import math\n",
    "%matplotlib inline\n",
    "#Harmonic oscillator local energy\n",
    "def ElHarm(x, a):\n",
    "    return a + x * x * (0.5 - 2 * a ** 2)\n",
    "\n",
    "def init(nWalk = 10, nStep = 10000, nEquilibriate = 1000):\n",
    "    \n",
    "    r = np.zeros(nWalk * nStep - nEquilibriate * nWalk)\n",
    "    #w = np.random.normal(0,math.sqrt(1 / 2 / a), nWalk) #initiate walkers in normal distr\n",
    "    w = np.random.uniform(-math.sqrt(1 / 2 / a), math.sqrt(1 / 2 / a)) #initiate walkers in uniform distribution\n",
    "    return nWalk, nStep, r, w\n",
    "\n",
    "def move(x, a):\n",
    "    return x + np.random.normal(0,math.sqrt(1 / 2 / a), 1)\n",
    "\n",
    "def accept(w, wNew, a):\n",
    "    ratio = math.exp(-a * (wNew ** 2 - w ** 2)) ** 2 \n",
    "    if(ratio > 1):\n",
    "        return True\n",
    "    else:\n",
    "        return np.random.uniform() < ratio \n",
    "\n",
    "def updateWalkers(w, nWalk, a):\n",
    "    for i in range(0, nWalk):\n",
    "        wNew = move(w[i], a)\n",
    "        if(accept(w[i], wNew, a)):\n",
    "            w[i] = wNew\n",
    "            \n",
    "def updateWalkersVec(w, nWalk, a):\n",
    "    wNew = np.random.normal(0,math.sqrt(1 / 2 / a), nWalk)\n",
    "    ratio = np.exp(-2 * a * ((w+wNew) ** 2 - w ** 2)) \n",
    "    u = np.random.uniform(size=(nWalk))\n",
    "    w += (u < ratio) * wNew\n",
    "            \n",
    "nWalk = 400\n",
    "nStep = 30000\n",
    "a = 0.6\n",
    "nEquilibriate = 4000\n",
    "\n",
    "r = np.zeros(nWalk * nStep)\n",
    "w = np.random.normal(0,math.sqrt(1 / 2 / a), nWalk) #initiate walkers in normal distr\n",
    "    \n",
    "for i in range(0, nEquilibriate):\n",
    "    updateWalkersVec(w, nWalk, a)\n",
    "    \n",
    "for i in range(0, nStep):\n",
    "    updateWalkersVec(w, nWalk, a)\n",
    "    r[i * nWalk : (i + 1) * nWalk] = w\n",
    "    \n",
    "hist, bin_edges = np.histogram(r,1000)\n",
    "        \n",
    "        \n",
    "        \n",
    "plt.plot(np.linspace(min(bin_edges),max(bin_edges), len(hist)), hist)\n",
    "\n",
    "\n",
    "print(\"The local energy equals: \", np.mean(ElHarm(r, a)), \"\\nWith uncertainty: \", np.var(ElHarm(r, a)))"
   ]
  },
  {
   "cell_type": "code",
   "execution_count": 6,
   "metadata": {
    "collapsed": false
   },
   "outputs": [
    {
     "data": {
      "text/plain": [
       "10"
      ]
     },
     "execution_count": 6,
     "metadata": {},
     "output_type": "execute_result"
    }
   ],
   "source": []
  },
  {
   "cell_type": "code",
   "execution_count": 7,
   "metadata": {
    "collapsed": false
   },
   "outputs": [
    {
     "data": {
      "text/plain": [
       "90000"
      ]
     },
     "execution_count": 7,
     "metadata": {},
     "output_type": "execute_result"
    }
   ],
   "source": [
    "len(r)"
   ]
  },
  {
   "cell_type": "code",
   "execution_count": 8,
   "metadata": {
    "collapsed": false
   },
   "outputs": [
    {
     "data": {
      "text/plain": [
       "10"
      ]
     },
     "execution_count": 8,
     "metadata": {},
     "output_type": "execute_result"
    }
   ],
   "source": [
    "len(r[10:20])"
   ]
  },
  {
   "cell_type": "code",
   "execution_count": 9,
   "metadata": {
    "collapsed": true
   },
   "outputs": [],
   "source": [
    "r[10:20] = w"
   ]
  },
  {
   "cell_type": "code",
   "execution_count": 10,
   "metadata": {
    "collapsed": false
   },
   "outputs": [
    {
     "data": {
      "text/plain": [
       "90000"
      ]
     },
     "execution_count": 10,
     "metadata": {},
     "output_type": "execute_result"
    }
   ],
   "source": [
    "i *nWalk"
   ]
  },
  {
   "cell_type": "code",
   "execution_count": null,
   "metadata": {
    "collapsed": true
   },
   "outputs": [],
   "source": []
  }
 ],
 "metadata": {
  "kernelspec": {
   "display_name": "Python 3",
   "language": "python",
   "name": "python3"
  },
  "language_info": {
   "codemirror_mode": {
    "name": "ipython",
    "version": 3
   },
   "file_extension": ".py",
   "mimetype": "text/x-python",
   "name": "python",
   "nbconvert_exporter": "python",
   "pygments_lexer": "ipython3",
   "version": "3.5.1"
  }
 },
 "nbformat": 4,
 "nbformat_minor": 0
}
