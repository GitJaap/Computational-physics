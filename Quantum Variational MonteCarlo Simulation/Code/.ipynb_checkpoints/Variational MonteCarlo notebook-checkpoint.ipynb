{
 "cells": [
  {
   "cell_type": "markdown",
   "metadata": {},
   "source": [
    "# Variational monte carlo simulation for 1D harmonic oscillator."
   ]
  },
  {
   "cell_type": "code",
   "execution_count": 79,
   "metadata": {
    "collapsed": false
   },
   "outputs": [
    {
     "name": "stdout",
     "output_type": "stream",
     "text": [
      "The local energy equals:  0.508312566605 \n",
      "With uncertainty:  0.0168350334728\n"
     ]
    },
    {
     "data": {
      "image/png": "[encoded data removed]",
      "text/plain": [
       "<matplotlib.figure.Figure at 0x9656a90>"
      ]
     },
     "metadata": {},
     "output_type": "display_data"
    }
   ],
   "source": [
    "import numpy as np\n",
    "from matplotlib import pyplot as plt\n",
    "import math\n",
    "%matplotlib inline\n",
    "#Harmonic oscillator local energy\n",
    "def ElHarm(x, a):\n",
    "    return a + x * x * (0.5 - 2 * a ** 2)\n",
    "            \n",
    "def updateWalkers(w, nWalk, a):\n",
    "    wNew = np.random.normal(0,math.sqrt(1 / 2 / a), nWalk)\n",
    "    ratio = np.exp(-2 * a * ((w+wNew) ** 2 - w ** 2)) \n",
    "    u = np.random.uniform(size=(nWalk))\n",
    "    w += (u < ratio) * wNew\n",
    "            \n",
    "nWalk = 400\n",
    "nStep = 30000\n",
    "a = 0.6\n",
    "nEquilibriate = 4000\n",
    "\n",
    "r = np.zeros(nWalk * nStep)\n",
    "w = np.random.uniform(-math.sqrt(1 / 2 / a),math.sqrt(1 / 2 / a), nWalk) #initiate walkers in uniform distr\n",
    "    \n",
    "for i in range(0, nEquilibriate):\n",
    "    updateWalkers(w, nWalk, a)\n",
    "    \n",
    "for i in range(0, nStep):\n",
    "    updateWalkers(w, nWalk, a)\n",
    "    r[i * nWalk : (i + 1) * nWalk] = w\n",
    "    \n",
    "hist, bin_edges = np.histogram(r,1000)\n",
    "        \n",
    "        \n",
    "        \n",
    "plt.plot(np.linspace(min(bin_edges),max(bin_edges), len(hist)), hist)\n",
    "\n",
    "\n",
    "print(\"The local energy equals: \", np.mean(ElHarm(r, a)), \"\\nWith uncertainty: \", np.var(ElHarm(r, a)))"
   ]
  },
  {
   "cell_type": "markdown",
   "metadata": {},
   "source": [
    "# Variational MonteCarlo code for Hydrogen Atom"
   ]
  },
  {
   "cell_type": "code",
   "execution_count": 86,
   "metadata": {
    "collapsed": false
   },
   "outputs": [
    {
     "name": "stdout",
     "output_type": "stream",
     "text": [
      "The local energy equals:  -0.494856674456 \n",
      "With uncertainty:  0.0119918359487\n"
     ]
    },
    {
     "data": {
      "image/png": "[encoded data removed]",
      "text/plain": [
       "<matplotlib.figure.Figure at 0x93caef0>"
      ]
     },
     "metadata": {},
     "output_type": "display_data"
    }
   ],
   "source": [
    "import numpy as np\n",
    "from matplotlib import pyplot as plt\n",
    "import math\n",
    "%matplotlib inline\n",
    "#Harmonic oscillator local energy\n",
    "def ElHarm(x, a):\n",
    "    return a + x * x * (0.5 - 2 * a ** 2)\n",
    "\n",
    "#hydrogen atom local energy\n",
    "def ElHydro(x, a):\n",
    "    g = 1 / np.sqrt(np.sum(x ** 2, axis = 1))\n",
    "    return -g - 0.5 * a * (a - 2 * g)\n",
    "            \n",
    "def updateWalkers(w, nWalk, a):\n",
    "    d = 0.1 * np.random.normal(0,math.sqrt(1 / 2 / a), (nWalk, 3))\n",
    "    ratio = np.exp( -2 * a * (np.sqrt(np.sum((w + d) ** 2, axis=1)) - np.sqrt(np.sum(w ** 2, axis=1)))) \n",
    "    u = np.random.uniform(size=(nWalk))\n",
    "    w += (u < ratio)[:,None] * d\n",
    "            \n",
    "nWalk = 400\n",
    "nStep = 30000\n",
    "a = 1.1\n",
    "nEquilibriate = 4000\n",
    "\n",
    "r = np.zeros((nWalk * nStep , 3))\n",
    "w = np.random.uniform(-math.sqrt(1 / 2 / a),math.sqrt(1 / 2 / a), (nWalk,3)) #initiate walkers in uniform distr\n",
    "    \n",
    "hist, bin_edges = np.histogram(w,1000)\n",
    "plt.plot(np.linspace(min(bin_edges),max(bin_edges), len(hist)), hist / max(hist))\n",
    "    \n",
    "for i in range(0, nEquilibriate):\n",
    "    updateWalkers(w, nWalk, a)\n",
    "    \n",
    "for i in range(0, nStep):\n",
    "    updateWalkers(w, nWalk, a)\n",
    "    r[i * nWalk : (i + 1) * nWalk, :] = w\n",
    "    \n",
    "hist, bin_edges = np.histogram(r,1000)\n",
    "plt.plot(np.linspace(min(bin_edges),max(bin_edges), len(hist)), hist / max(hist))\n",
    "\n",
    "\n",
    "print(\"The local energy equals: \", np.mean(ElHydro(r, a)), \"\\nWith uncertainty: \", np.var(ElHydro(r, a)))"
   ]
  },
  {
   "cell_type": "markdown",
   "metadata": {},
   "source": [
    "# VMC for hydrogen molecule"
   ]
  },
  {
   "cell_type": "code",
   "execution_count": 12,
   "metadata": {
    "collapsed": false
   },
   "outputs": [
    {
     "ename": "IndexError",
     "evalue": "invalid index to scalar variable.",
     "output_type": "error",
     "traceback": [
      "\u001b[1;31m---------------------------------------------------------------------------\u001b[0m",
      "\u001b[1;31mIndexError\u001b[0m                                Traceback (most recent call last)",
      "\u001b[1;32m<ipython-input-12-d3bf0b590ca4>\u001b[0m in \u001b[0;36m<module>\u001b[1;34m()\u001b[0m\n\u001b[0;32m     79\u001b[0m \u001b[1;33m\u001b[0m\u001b[0m\n\u001b[0;32m     80\u001b[0m \u001b[1;32mfor\u001b[0m \u001b[0mi\u001b[0m \u001b[1;32min\u001b[0m \u001b[0mrange\u001b[0m\u001b[1;33m(\u001b[0m\u001b[1;36m0\u001b[0m\u001b[1;33m,\u001b[0m \u001b[0mnEquilibriate\u001b[0m\u001b[1;33m)\u001b[0m\u001b[1;33m:\u001b[0m\u001b[1;33m\u001b[0m\u001b[0m\n\u001b[1;32m---> 81\u001b[1;33m     \u001b[0mupdateWalkers\u001b[0m\u001b[1;33m(\u001b[0m\u001b[0mw\u001b[0m\u001b[1;33m,\u001b[0m \u001b[0mnWalk\u001b[0m\u001b[1;33m,\u001b[0m \u001b[0ma\u001b[0m\u001b[1;33m,\u001b[0m \u001b[0ms\u001b[0m\u001b[1;33m,\u001b[0m \u001b[0malpha\u001b[0m\u001b[1;33m,\u001b[0m \u001b[0mbeta\u001b[0m\u001b[1;33m)\u001b[0m\u001b[1;33m\u001b[0m\u001b[0m\n\u001b[0m\u001b[0;32m     82\u001b[0m \u001b[1;33m\u001b[0m\u001b[0m\n\u001b[0;32m     83\u001b[0m \u001b[1;32mfor\u001b[0m \u001b[0mi\u001b[0m \u001b[1;32min\u001b[0m \u001b[0mrange\u001b[0m\u001b[1;33m(\u001b[0m\u001b[1;36m0\u001b[0m\u001b[1;33m,\u001b[0m \u001b[0mnStep\u001b[0m\u001b[1;33m)\u001b[0m\u001b[1;33m:\u001b[0m\u001b[1;33m\u001b[0m\u001b[0m\n",
      "\u001b[1;32m<ipython-input-12-d3bf0b590ca4>\u001b[0m in \u001b[0;36mupdateWalkers\u001b[1;34m(w, nWalk, a, s, alpha, beta)\u001b[0m\n\u001b[0;32m     37\u001b[0m     \u001b[0md\u001b[0m \u001b[1;33m=\u001b[0m \u001b[1;36m0.1\u001b[0m \u001b[1;33m*\u001b[0m \u001b[0mnp\u001b[0m\u001b[1;33m.\u001b[0m\u001b[0mrandom\u001b[0m\u001b[1;33m.\u001b[0m\u001b[0mnormal\u001b[0m\u001b[1;33m(\u001b[0m\u001b[1;36m0\u001b[0m\u001b[1;33m,\u001b[0m\u001b[0mmath\u001b[0m\u001b[1;33m.\u001b[0m\u001b[0msqrt\u001b[0m\u001b[1;33m(\u001b[0m\u001b[1;36m1\u001b[0m \u001b[1;33m/\u001b[0m \u001b[1;36m2\u001b[0m \u001b[1;33m/\u001b[0m \u001b[0ma\u001b[0m\u001b[1;33m)\u001b[0m\u001b[1;33m,\u001b[0m \u001b[1;33m(\u001b[0m\u001b[0mnWalk\u001b[0m\u001b[1;33m,\u001b[0m \u001b[1;36m6\u001b[0m\u001b[1;33m)\u001b[0m\u001b[1;33m)\u001b[0m\u001b[1;33m\u001b[0m\u001b[0m\n\u001b[0;32m     38\u001b[0m     \u001b[0mratio\u001b[0m \u001b[1;33m=\u001b[0m \u001b[0mcalcPsi\u001b[0m\u001b[1;33m(\u001b[0m\u001b[0mw\u001b[0m \u001b[1;33m+\u001b[0m \u001b[0md\u001b[0m\u001b[1;33m,\u001b[0m \u001b[0ma\u001b[0m\u001b[1;33m,\u001b[0m \u001b[0ms\u001b[0m\u001b[1;33m,\u001b[0m \u001b[0malpha\u001b[0m\u001b[1;33m,\u001b[0m \u001b[0mbeta\u001b[0m\u001b[1;33m)\u001b[0m \u001b[1;33m/\u001b[0m \u001b[0mcalcPsi\u001b[0m\u001b[1;33m(\u001b[0m\u001b[0mw\u001b[0m \u001b[1;33m,\u001b[0m \u001b[0ma\u001b[0m\u001b[1;33m,\u001b[0m \u001b[0ms\u001b[0m\u001b[1;33m,\u001b[0m \u001b[0malpha\u001b[0m\u001b[1;33m,\u001b[0m \u001b[0mbeta\u001b[0m\u001b[1;33m)\u001b[0m\u001b[1;33m\u001b[0m\u001b[0m\n\u001b[1;32m---> 39\u001b[1;33m     \u001b[0mprint\u001b[0m\u001b[1;33m(\u001b[0m\u001b[0mratio\u001b[0m\u001b[1;33m[\u001b[0m\u001b[1;36m5\u001b[0m\u001b[1;33m]\u001b[0m\u001b[1;33m)\u001b[0m\u001b[1;33m\u001b[0m\u001b[0m\n\u001b[0m\u001b[0;32m     40\u001b[0m     \u001b[0mu\u001b[0m \u001b[1;33m=\u001b[0m \u001b[0mnp\u001b[0m\u001b[1;33m.\u001b[0m\u001b[0mrandom\u001b[0m\u001b[1;33m.\u001b[0m\u001b[0muniform\u001b[0m\u001b[1;33m(\u001b[0m\u001b[0msize\u001b[0m\u001b[1;33m=\u001b[0m\u001b[1;33m(\u001b[0m\u001b[0mnWalk\u001b[0m\u001b[1;33m)\u001b[0m\u001b[1;33m)\u001b[0m\u001b[1;33m\u001b[0m\u001b[0m\n\u001b[0;32m     41\u001b[0m     \u001b[0mw\u001b[0m \u001b[1;33m+=\u001b[0m \u001b[1;33m(\u001b[0m\u001b[0mu\u001b[0m \u001b[1;33m<\u001b[0m \u001b[0mratio\u001b[0m\u001b[1;33m)\u001b[0m\u001b[1;33m[\u001b[0m\u001b[1;33m:\u001b[0m\u001b[1;33m,\u001b[0m\u001b[1;32mNone\u001b[0m\u001b[1;33m]\u001b[0m \u001b[1;33m*\u001b[0m \u001b[0md\u001b[0m\u001b[1;33m\u001b[0m\u001b[0m\n",
      "\u001b[1;31mIndexError\u001b[0m: invalid index to scalar variable."
     ]
    },
    {
     "data": {
      "image/png": "[encoded data removed]",
      "text/plain": [
       "<matplotlib.figure.Figure at 0x832a6a0>"
      ]
     },
     "metadata": {},
     "output_type": "display_data"
    }
   ],
   "source": [
    "#NOW I HAVE CREATED THE INITIAL CONDITIONS: FOR NEXT TIME WE NEED \n",
    "\n",
    "import numpy as np\n",
    "from matplotlib import pyplot as plt\n",
    "import math\n",
    "%matplotlib inline\n",
    "#x is a 6dimensional vector\n",
    "\n",
    "#hydrogen molecule local energy\n",
    "def ElHydro(x, a, s, alpha, beta):\n",
    "    r1 = x[:,0:3] #position of first electron\n",
    "    r2 = x[:,3:6] #position of second electron\n",
    "    sL = [-s / 2, 0, 0] #position of left hydrogen atom\n",
    "    sR = [s / 2, 0, 0] #position of right hydrogen atom\n",
    "    r1L = np.linalg.norm(r1-sL, axis = 1)\n",
    "    r2L = np.linalg.norm(r2-sL, axis = 1)\n",
    "    r1R = np.linalg.norm(r1-sR, axis = 1)\n",
    "    r2R = np.linalg.norm(r2-sR, axis = 1)\n",
    "    r12 = np.linalg.norm(r1-r2, axis = 1)\n",
    "    phi1L = np.exp(-r1L / a)\n",
    "    phi1R = np.exp(-r2R / a)\n",
    "    phi1 = phi1R + phi1L\n",
    "    phi2L = np.exp(r2L / a)\n",
    "    phi2R = np.exp(r2R / a)\n",
    "    phi2 = phi2R + phi2L\n",
    "    \n",
    "    El = -1 / a ** 2 + 1 / (a * phi1) * (phi1L / r1L + phi1R / r1R)\n",
    "    El += 1 / (a * phi2) * (phi2L / r2L + phi2R / r2R)\n",
    "    El -= (1 / r1L + 1 / r1R + 1 / r2L + 1 / r2R)\n",
    "    El += 1 / r12\n",
    "    El += sum(sum(((phi1L * (r1 - sL) + phi1R * (r1 - sR)) / phi1 - (phi2L * (r2 - sL) + phi2R * (r2 - sR)) / phi2 ) * ((r1 - r2) / (2 * a * (1 + beta * r12) ** 2))))\n",
    "    El -= ((4 * beta + 1) * r12 + 4) / (4 * (1 + beta * r12) ** 4 * r12)\n",
    "    \n",
    "    return El\n",
    "       \n",
    "def updateWalkers(w, nWalk, a, s, alpha, beta):\n",
    "    d = 0.1 * np.random.normal(0,math.sqrt(1 / 2 / a), (nWalk, 6))\n",
    "    ratio = calcPsi(w + d, a, s, alpha, beta) / calcPsi(w , a, s, alpha, beta) \n",
    "    print(ratio[5])\n",
    "    u = np.random.uniform(size=(nWalk))\n",
    "    w += (u < ratio)[:,None] * d\n",
    "    \n",
    "def calcPsi(x, a, s, alpha, beta):\n",
    "    r1 = x[:,0:3] #position of first electron\n",
    "    r2 = x[:,3:6] #position of second electron\n",
    "    sL = [-s / 2, 0, 0] #position of left hydrogen atom\n",
    "    sR = [s / 2, 0, 0] #position of right hydrogen atom\n",
    "    r1L = np.linalg.norm(r1-sL, axis = 1)\n",
    "    r2L = np.linalg.norm(r2-sL, axis = 1)\n",
    "    r1R = np.linalg.norm(r1-sR, axis = 1)\n",
    "    r2R = np.linalg.norm(r2-sR, axis = 1)\n",
    "    r12 = np.linalg.norm(r1-r2, axis = 1)\n",
    "    phi1L = np.exp(-r1L / a)\n",
    "    phi1R = np.exp(-r2R / a)\n",
    "    phi1 = phi1R + phi1L\n",
    "    phi2L = np.exp(r2L / a)\n",
    "    phi2R = np.exp(r2R / a)\n",
    "    phi2 = phi2R + phi2L\n",
    "    \n",
    "    return phi1 * phi2 * np.exp(r12 / (alpha * (1 + beta * r12)))\n",
    "            \n",
    "nWalk = 1\n",
    "nStep = 3000\n",
    "nEquilibriate = 400\n",
    "\n",
    "#four parameters:\n",
    "alpha = 2\n",
    "s = 2 #start with 2 times bohr radius of el(should be varied)\n",
    "a = 1 / (2 * s) #linearized crusp condition(should be improved i think.)\n",
    "beta = 0.5 #beta should be varied also (in what range??)\n",
    "\n",
    "r = np.zeros((nWalk * nStep , 6))\n",
    "w = np.zeros((nWalk, 6))\n",
    "w[:,0:3] = np.random.uniform(-math.sqrt(1 / 2 / a) - s / 2,math.sqrt(1 / 2 / a) - s / 2, (nWalk,3)) #initiate walkers of first electron in uniform distr\n",
    "w[:,3:6] = np.random.uniform(-math.sqrt(1 / 2 / a) + s / 2,math.sqrt(1 / 2 / a) + s / 2, (nWalk,3)) #initiate walkers of 2nd el.\n",
    "    \n",
    "hist, bin_edges = np.histogram(w,1000)\n",
    "plt.plot(np.linspace(min(bin_edges),max(bin_edges), len(hist)), hist / max(hist))\n",
    "    \n",
    "for i in range(0, nEquilibriate):\n",
    "    updateWalkers(w, nWalk, a, s, alpha, beta)\n",
    "    \n",
    "for i in range(0, nStep):\n",
    "    updateWalkers(w, nWalk, a, s, alpha, beta)\n",
    "    r[i * nWalk : (i + 1) * nWalk, :] = w\n",
    "    \n",
    "hist, bin_edges = np.histogram(r,1000)\n",
    "plt.plot(np.linspace(min(bin_edges),max(bin_edges), len(hist)), hist / max(hist))\n",
    "\n",
    "\n",
    "print(\"The local energy equals: \", np.mean(ElHydro(r, a, s, alpha, beta)), \"\\nWith uncertainty: \", np.var(ElHydro(r, a, s, alpha, beta)))"
   ]
  },
  {
   "cell_type": "code",
   "execution_count": 9,
   "metadata": {
    "collapsed": true
   },
   "outputs": [],
   "source": [
    "r[10:20] = w"
   ]
  },
  {
   "cell_type": "code",
   "execution_count": 10,
   "metadata": {
    "collapsed": false
   },
   "outputs": [
    {
     "data": {
      "text/plain": [
       "90000"
      ]
     },
     "execution_count": 10,
     "metadata": {},
     "output_type": "execute_result"
    }
   ],
   "source": [
    "i *nWalk"
   ]
  },
  {
   "cell_type": "code",
   "execution_count": null,
   "metadata": {
    "collapsed": true
   },
   "outputs": [],
   "source": []
  }
 ],
 "metadata": {
  "kernelspec": {
   "display_name": "Python 3",
   "language": "python",
   "name": "python3"
  },
  "language_info": {
   "codemirror_mode": {
    "name": "ipython",
    "version": 3
   },
   "file_extension": ".py",
   "mimetype": "text/x-python",
   "name": "python",
   "nbconvert_exporter": "python",
   "pygments_lexer": "ipython3",
   "version": "3.5.1"
  }
 },
 "nbformat": 4,
 "nbformat_minor": 0
}
