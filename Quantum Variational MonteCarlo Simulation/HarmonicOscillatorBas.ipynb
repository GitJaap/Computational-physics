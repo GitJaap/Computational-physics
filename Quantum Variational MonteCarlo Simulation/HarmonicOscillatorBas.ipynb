{
 "cells": [
  {
   "cell_type": "code",
   "execution_count": 37,
   "metadata": {
    "collapsed": true
   },
   "outputs": [],
   "source": [
    "import numpy as np"
   ]
  },
  {
   "cell_type": "code",
   "execution_count": 38,
   "metadata": {
    "collapsed": false
   },
   "outputs": [],
   "source": [
    "def EL_HO(R,a):\n",
    "    return a + R*R*(0.5-2*a*a) #Local energy for harmonic oscillator\n",
    "\n",
    "def updateWalker_HO(R,d,a,N):\n",
    "    dis = np.random.normal(0,d,N) #proposed displacement\n",
    "    p = np.exp(-2*a*((R+dis)**2-R**2)) #acceptence probability for harmonic oscillator\n",
    "    r = np.random.rand(N)\n",
    "    return R + (r<p)*dis\n",
    "\n",
    "def updateVarParams_HO(R,EL,a,gamma):\n",
    "    dEda = 2 * (np.mean(-R*R*EL)-EL.mean()*np.mean(-R*R))\n",
    "    return a - gamma * dEda, dEda\n",
    "    "
   ]
  },
  {
   "cell_type": "code",
   "execution_count": 39,
   "metadata": {
    "collapsed": false
   },
   "outputs": [
    {
     "name": "stdout",
     "output_type": "stream",
     "text": [
      "a =  0.6\n"
     ]
    }
   ],
   "source": [
    "N = 400 #Number of walkers\n",
    "T = 30000 #Number of displacement attempts per walker\n",
    "T0 = 4000 #Reject first T0 timesteps from averaging\n",
    "\n",
    "a = 0.6 #Variational parameter harmonic oscillator\n",
    "d = a/2 #mean step length\n",
    "gamma = 0.5 #damped steepest descent parameter\n",
    "epsilon = 1e-12 # absolute value of derivative tolerance\n",
    "itmax = 1;\n",
    "\n",
    "dEda = 1; it = 0;\n",
    "while((abs(dEda) >= epsilon) & (it<itmax)):\n",
    "    print('a = ',a)\n",
    "    Ri = np.random.uniform(-4*a,4*a,N)\n",
    "    R = np.empty(T*N)\n",
    "    R[0:N] = Ri\n",
    "    EL = np.empty(T*N)\n",
    "    for t in range(1,T): #loop over number of displacement attempts per walker\n",
    "        R[t*N:(t+1)*N] = updateWalker_HO(R[(t-1)*N:t*N],d,a,N)\n",
    "    EL = EL_HO(R,a)\n",
    "    a,dEda = updateVarParams_HO(R,EL,a,gamma)\n",
    "    it+=1\n",
    "    \n"
   ]
  },
  {
   "cell_type": "code",
   "execution_count": 40,
   "metadata": {
    "collapsed": false
   },
   "outputs": [
    {
     "name": "stdout",
     "output_type": "stream",
     "text": [
      "mean EL:  0.508411047592\n",
      "var  EL:  0.0167667176049\n"
     ]
    }
   ],
   "source": [
    "print('mean EL: ',EL.mean())\n",
    "print('var  EL: ',EL.var())\n",
    "\n"
   ]
  },
  {
   "cell_type": "code",
   "execution_count": 12,
   "metadata": {
    "collapsed": false
   },
   "outputs": [
    {
     "data": {
      "text/plain": [
       "bool"
      ]
     },
     "execution_count": 12,
     "metadata": {},
     "output_type": "execute_result"
    }
   ],
   "source": []
  },
  {
   "cell_type": "code",
   "execution_count": null,
   "metadata": {
    "collapsed": true
   },
   "outputs": [],
   "source": []
  }
 ],
 "metadata": {
  "kernelspec": {
   "display_name": "Python 3",
   "language": "python",
   "name": "python3"
  },
  "language_info": {
   "codemirror_mode": {
    "name": "ipython",
    "version": 3
   },
   "file_extension": ".py",
   "mimetype": "text/x-python",
   "name": "python",
   "nbconvert_exporter": "python",
   "pygments_lexer": "ipython3",
   "version": "3.5.1"
  }
 },
 "nbformat": 4,
 "nbformat_minor": 0
}
