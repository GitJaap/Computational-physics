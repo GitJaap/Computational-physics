{
 "cells": [
  {
   "cell_type": "code",
   "execution_count": 5,
   "metadata": {
    "collapsed": true
   },
   "outputs": [],
   "source": [
    "import numpy as np"
   ]
  },
  {
   "cell_type": "code",
   "execution_count": 26,
   "metadata": {
    "collapsed": false
   },
   "outputs": [],
   "source": [
    "def EL_HO(R,a):\n",
    "    return a + R*R*(0.5-2*a*a) #Local energy for harmonic oscillator\n",
    "\n",
    "def updateWalker_HO(R,d,a,N):\n",
    "    dis = np.random.normal(0,d,N) #proposed displacement\n",
    "    p = np.exp(-2*a*((R+dis)**2-R**2)) #acceptence probability for harmonic oscillator\n",
    "    r = np.random.rand(N)\n",
    "    R += (r<p)*dis\n",
    "\n",
    "def updateVarParams_HO(R,EL,a,gamma):\n",
    "    dEda = 2 * (np.mean(-R*R*EL)-EL.mean()*np.mean(-R*R))\n",
    "    return a - gamma * dEda, dEda\n",
    "\n",
    "def updateVarParams_HO_2(R2EL,EL,R2,a,gamma):\n",
    "    dEda = 2 * (-R2EL+EL*R2)\n",
    "    return a - gamma * dEda, dEda\n",
    "    "
   ]
  },
  {
   "cell_type": "markdown",
   "metadata": {},
   "source": [
    "## Harmonic Oscillator code with saving all walker locations"
   ]
  },
  {
   "cell_type": "code",
   "execution_count": 33,
   "metadata": {
    "collapsed": false
   },
   "outputs": [
    {
     "name": "stdout",
     "output_type": "stream",
     "text": [
      "a =  0.6\n",
      "a =  0.523245430313\n",
      "a =  0.501693524249\n",
      "a =  0.500004461361\n",
      "a =  0.499999998779\n",
      "a =  0.499999999991\n",
      "a =  0.5\n"
     ]
    }
   ],
   "source": [
    "N = 400 #Number of walkers\n",
    "T = 30000 #Number of displacement attempts per walker\n",
    "T0 = 4000 #Reject first T0 timesteps from averaging\n",
    "\n",
    "a = 0.6 #Variational parameter harmonic oscillator\n",
    "d = a/2 #mean step length\n",
    "gamma = 0.5 #damped steepest descent parameter\n",
    "epsilon = 1e-12 # absolute value of derivative tolerance\n",
    "itmax = 12;\n",
    "\n",
    "dEda = 1; it = 0;\n",
    "while((abs(dEda) >= epsilon) & (it<itmax)):\n",
    "    print('a = ',a)\n",
    "    Ri = np.random.uniform(-4*a,4*a,N)\n",
    "    R = np.empty(T*N)\n",
    "    EL = np.empty(T*N)\n",
    "    for t in range(0,T0):\n",
    "        updateWalker_HO(Ri,d,a,N)\n",
    "        \n",
    "    for t in range(0,T): #loop over number of displacement attempts per walker\n",
    "        updateWalker_HO(Ri,d,a,N)\n",
    "        R[t*N:(t+1)*N] = Ri\n",
    "        \n",
    "    EL = EL_HO(R,a)\n",
    "    a,dEda = updateVarParams_HO(R,EL,a,gamma)\n",
    "    it+=1\n",
    "    \n"
   ]
  },
  {
   "cell_type": "code",
   "execution_count": 34,
   "metadata": {
    "collapsed": false
   },
   "outputs": [
    {
     "name": "stdout",
     "output_type": "stream",
     "text": [
      "mean EL:  0.5\n",
      "var  EL:  1.58950291413e-26\n"
     ]
    }
   ],
   "source": [
    "print('mean EL: ',EL.mean())\n",
    "print('var  EL: ',EL.var())"
   ]
  },
  {
   "cell_type": "markdown",
   "metadata": {},
   "source": [
    "## Harmonic Oscillator without saving all walker locations (in between averaging)\n",
    "This is in fact slower than above for N=400, T=30000, and about equally fast with N=4000, T=30000.\n",
    "No point in doing this further."
   ]
  },
  {
   "cell_type": "code",
   "execution_count": 29,
   "metadata": {
    "collapsed": false
   },
   "outputs": [
    {
     "name": "stdout",
     "output_type": "stream",
     "text": [
      "a =  0.6\n",
      "a =  0.523600193214\n",
      "a =  0.501470489469\n",
      "a =  0.500002512537\n",
      "a =  0.499999985416\n",
      "a =  0.500000000047\n",
      "a =  0.5\n"
     ]
    }
   ],
   "source": [
    "N = 400 #Number of walkers\n",
    "T = 30000 #Number of displacement attempts per walker\n",
    "T0 = 4000 #Reject first T0 timesteps from averaging\n",
    "\n",
    "a = 0.6 #Variational parameter harmonic oscillator\n",
    "d = a/2 #mean step length\n",
    "gamma = 0.5 #damped steepest descent parameter\n",
    "epsilon = 1e-12 # absolute value of derivative tolerance\n",
    "itmax = 12;\n",
    "\n",
    "dEda = 1; it = 0;\n",
    "while((abs(dEda) >= epsilon) & (it<itmax)):\n",
    "    print('a = ',a)\n",
    "    R = np.random.uniform(-4*a,4*a,N) #Initialize walker positions\n",
    "    for t in range(0,T0): # first T0 steps to equilibriate\n",
    "        updateWalker_HO(R,d,a,N)\n",
    "        \n",
    "    EL = 0\n",
    "    VarEL = 0\n",
    "    R2EL = 0\n",
    "    R2 = 0\n",
    "    for t in range(0,T): #loop over number of displacement attempts per walker\n",
    "        updateWalker_HO(R,d,a,N)\n",
    "        ELit = EL_HO(R,a)\n",
    "        EL += np.mean(ELit)\n",
    "        VarEL += np.var(ELit)\n",
    "        R2EL += np.mean(R*R*ELit)\n",
    "        R2 += np.mean(R*R)\n",
    "        \n",
    "    EL /= T\n",
    "    VarEL /= T\n",
    "    R2EL /= T\n",
    "    R2 /= T\n",
    "    \n",
    "    a,dEda = updateVarParams_HO_2(R2EL,EL,R2,a,gamma)\n",
    "    it+=1"
   ]
  },
  {
   "cell_type": "code",
   "execution_count": 30,
   "metadata": {
    "collapsed": false
   },
   "outputs": [
    {
     "name": "stdout",
     "output_type": "stream",
     "text": [
      "mean EL:  0.5\n",
      "var  EL:  5.60705829874e-27\n"
     ]
    }
   ],
   "source": [
    "print('mean EL: ',EL)\n",
    "print('var  EL: ',VarEL)"
   ]
  },
  {
   "cell_type": "code",
   "execution_count": null,
   "metadata": {
    "collapsed": true
   },
   "outputs": [],
   "source": []
  }
 ],
 "metadata": {
  "kernelspec": {
   "display_name": "Python 3",
   "language": "python",
   "name": "python3"
  },
  "language_info": {
   "codemirror_mode": {
    "name": "ipython",
    "version": 3
   },
   "file_extension": ".py",
   "mimetype": "text/x-python",
   "name": "python",
   "nbconvert_exporter": "python",
   "pygments_lexer": "ipython3",
   "version": "3.5.1"
  }
 },
 "nbformat": 4,
 "nbformat_minor": 0
}
