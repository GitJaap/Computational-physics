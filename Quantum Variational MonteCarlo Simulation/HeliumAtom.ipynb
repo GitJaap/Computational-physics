{
 "cells": [
  {
   "cell_type": "markdown",
   "metadata": {},
   "source": [
    "# Variational monte carlo simulation for Helium Atom"
   ]
  },
  {
   "cell_type": "code",
   "execution_count": 19,
   "metadata": {
    "collapsed": false
   },
   "outputs": [],
   "source": [
    "import numpy as np\n",
    "from matplotlib import pyplot as plt\n",
    "%matplotlib inline"
   ]
  },
  {
   "cell_type": "code",
   "execution_count": 20,
   "metadata": {
    "collapsed": false
   },
   "outputs": [],
   "source": [
    "def wavefunc(r,a):\n",
    "    r1 = np.linalg.norm(r[:,0:3],axis=1)\n",
    "    r2 = np.linalg.norm(r[:,3:6],axis=1)\n",
    "    r12 = np.linalg.norm(r[:,0:3]-r[:,3:6],axis=1)\n",
    "    return np.exp(-2*r1) * np.exp(-2*r2) * np.exp(r12/(2*(1+a*r12)))\n",
    "    \n",
    "def updateWalker(r,N,a):\n",
    "    dis = np.random.normal(0,d,(N,6)) #proposed displacement\n",
    "    p = (wavefunc(r+dis,a)/wavefunc(r,a))**2\n",
    "    rnd = np.random.rand(N)\n",
    "    r += (rnd<p)[:,None]*dis\n",
    "    \n",
    "def EL(r,a):\n",
    "    r1 = np.linalg.norm(r[:,0:3],axis=1)\n",
    "    r2 = np.linalg.norm(r[:,3:6],axis=1)\n",
    "    r12 = np.linalg.norm(r[:,0:3]-r[:,3:6],axis=1)\n",
    "    dotpr = np.sum((r[:,0:3]/r1[:,None] - r[:,3:6]/r2[:,None]) * (r[:,0:3] - r[:,3:6]),axis=1)\n",
    "    return -4 + dotpr/(r12*(1+a*r12)**2) - 1/(r12*(1+a*r12)**3) - 1/(4*(1+a*r12)**4) + 1/r12\n",
    "\n",
    "def updateVarParams(R,EL,a,gamma):\n",
    "    R12 = np.linalg.norm(R[:,0:3]-R[:,3:6],axis=1)\n",
    "    dlnpsida = -R12**2 / (2*(1+a*R12)**2)\n",
    "    dEda = 2 * (np.mean(EL*dlnpsida)-np.mean(EL)*np.mean(dlnpsida))\n",
    "    return a - gamma * dEda, dEda"
   ]
  },
  {
   "cell_type": "code",
   "execution_count": 23,
   "metadata": {
    "collapsed": false
   },
   "outputs": [
    {
     "name": "stdout",
     "output_type": "stream",
     "text": [
      "a =  0.1  <E> =  -2.87701198739  Var(EL) =  0.136077566508\n",
      "a =  0.157730818854  <E> =  -2.87790172659  Var(EL) =  0.108766536306\n",
      "a =  0.144749894164  <E> =  -2.87776752303  Var(EL) =  0.114017088006\n",
      "a =  0.143302737856  <E> =  -2.8781519172  Var(EL) =  0.114390947856\n",
      "a =  0.143313972209  <E> =  -2.87780013341  Var(EL) =  0.114320869322\n",
      "a =  0.143681523706  <E> =  -2.87796502674  Var(EL) =  0.114256096067\n",
      "a =  0.142658382802  <E> =  -2.87774858248  Var(EL) =  0.11494798314\n",
      "a =  0.142764044555  <E> =  -2.87816948875  Var(EL) =  0.114621421829\n",
      "a =  0.143250304951  <E> =  -2.87787318286  Var(EL) =  0.114346205173\n",
      "a =  0.143345012839  <E> =  -2.87812935635  Var(EL) =  0.114466356377\n",
      "a =  0.142833752903  <E> =  -2.87819292081  Var(EL) =  0.114480600606\n",
      "a =  0.14349770387  <E> =  -2.87848756762  Var(EL) =  0.114155865838\n",
      "Maximum number of iterations reached. No optimal variational parameter may be found up to the required precision\n"
     ]
    }
   ],
   "source": [
    "N = 1000 #Number of walkers\n",
    "T = 26000 #Number of displacement attempts per walker\n",
    "T0 = 4000 #Reject first T0 timesteps from averaging\n",
    "\n",
    "#Variational parameters\n",
    "a = 0.1\n",
    "\n",
    "d = 1/2 #mean step length\n",
    "gamma = .5 #damped steepest descent parameter\n",
    "epsilon = 1e-6 # tolerance on derivative \n",
    "itmax = 12; #max number of optimization iterations\n",
    "\n",
    "dEda = 2; it = 0;\n",
    "while((abs(dEda) >= epsilon) & (it<itmax)):\n",
    "    r = np.random.uniform(-2*a,2*a,(N,6))\n",
    "    R = np.empty((T*N,6))\n",
    "    \n",
    "    for t in range(0,T0):\n",
    "        updateWalker(r,N,a)\n",
    "        \n",
    "    for t in range(0,T):\n",
    "        updateWalker(r,N,a)\n",
    "        R[t*N:(t+1)*N,:] = r\n",
    "        \n",
    "    Eloc = EL(R,a)\n",
    "    E = np.mean(Eloc)\n",
    "    VarE = np.var(Eloc)\n",
    "    print('a = ',a,' <E> = ',E,' Var(EL) = ',VarE)\n",
    "    a, dEda = updateVarParams(R,Eloc,a,gamma)\n",
    "    it+=1\n",
    "    \n",
    "\n",
    "\n",
    "if it==itmax:\n",
    "    print('Maximum number of iterations reached. No optimal variational parameter may be found up to the required precision')"
   ]
  },
  {
   "cell_type": "code",
   "execution_count": null,
   "metadata": {
    "collapsed": false
   },
   "outputs": [],
   "source": []
  },
  {
   "cell_type": "code",
   "execution_count": null,
   "metadata": {
    "collapsed": false
   },
   "outputs": [],
   "source": []
  },
  {
   "cell_type": "code",
   "execution_count": null,
   "metadata": {
    "collapsed": false
   },
   "outputs": [],
   "source": []
  },
  {
   "cell_type": "code",
   "execution_count": null,
   "metadata": {
    "collapsed": true
   },
   "outputs": [],
   "source": []
  }
 ],
 "metadata": {
  "kernelspec": {
   "display_name": "Python 3",
   "language": "python",
   "name": "python3"
  },
  "language_info": {
   "codemirror_mode": {
    "name": "ipython",
    "version": 3
   },
   "file_extension": ".py",
   "mimetype": "text/x-python",
   "name": "python",
   "nbconvert_exporter": "python",
   "pygments_lexer": "ipython3",
   "version": "3.5.1"
  }
 },
 "nbformat": 4,
 "nbformat_minor": 0
}
