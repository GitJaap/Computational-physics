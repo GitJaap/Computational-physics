{
 "cells": [
  {
   "cell_type": "markdown",
   "metadata": {},
   "source": [
    "# Argon worksheet compute everything"
   ]
  },
  {
   "cell_type": "markdown",
   "metadata": {},
   "source": [
    "## Import all functions from ArgonFunc"
   ]
  },
  {
   "cell_type": "code",
   "execution_count": 63,
   "metadata": {
    "collapsed": false
   },
   "outputs": [],
   "source": [
    "import ArgonFunc as ar\n",
    "from imp import reload\n",
    "reload(ar);\n",
    "#%matplotlib inline\n",
    "import numpy as np\n",
    "from matplotlib import pyplot as plt"
   ]
  },
  {
   "cell_type": "markdown",
   "metadata": {},
   "source": [
    "### Compute Cv using a energy conserving program\n",
    "First, gas conditions where rho = 0.01 and T = 2 \n",
    "\n",
    "Then, solid conditions where rho = 0.99 and T = 0.1"
   ]
  },
  {
   "cell_type": "code",
   "execution_count": null,
   "metadata": {
    "collapsed": false
   },
   "outputs": [],
   "source": [
    "# --------- conserve E program --------------\n",
    "# This block just runs the program under certain preset conditions:\n",
    "# gas conditions where rho = 0.01 and T = 2 \n",
    "\n",
    "numtime = 40000\n",
    "\n",
    "pos,vel,rho,T,n,timesteps,dt,N,L = ar.init_params(rhopar=0.01,Tpar=2,npar=6,tfinpar=numtime)\n",
    "pos2,vel2,K,V,rV = ar.evolveTimeConserveE(pos,vel,timesteps,N,L,dt)\n"
   ]
  },
  {
   "cell_type": "code",
   "execution_count": null,
   "metadata": {
    "collapsed": false
   },
   "outputs": [],
   "source": [
    "# This block computes the Cv from the results of either of the above blocks of presets.\n",
    "\n",
    "Nblocks = 10\n",
    "fromBlock = 1 # Discard first block to reach equilibrium\n",
    "Cv = np.empty(Nblocks)\n",
    "j = numtime//Nblocks\n",
    "for i in range(Nblocks):\n",
    "    Cv[i] = 1 / (2/(3*N) - np.var(K[i*j:(i+1)*j])/(K[i*j:(i+1)*j].mean()**2))\n",
    "    \n",
    "# print(Cv/N)\n",
    "print(\"Cv/kb/N = \",Cv[fromBlock::].mean()/N, \" +/- \", 2*np.std(Cv[fromBlock::]/N))\n",
    "print(\"relError = \",2*np.std(Cv[fromBlock::]/N) / (Cv[fromBlock::].mean()/N) * 100, \"%\")\n",
    "# ar.plotEnergy(timesteps,K,V)\n",
    "# ar.plotParticles(pos2,L)\n",
    "# ar.plt.show()"
   ]
  },
  {
   "cell_type": "code",
   "execution_count": null,
   "metadata": {
    "collapsed": false
   },
   "outputs": [],
   "source": [
    "# --------- conserve E program --------------\n",
    "# This block just runs the program under certain preset conditions:\n",
    "# solid conditions where rho = 0.99 and T = 0.1\n",
    "# FEW HOURS RUNTIME!\n",
    "numtime = 600000\n",
    "\n",
    "pos,vel,rho,T,n,timesteps,dt,N,L = ar.init_params(0.99,0.1,6,numtime)\n",
    "pos2,vel2,K,V,rV = ar.evolveTimeConserveE(pos,vel,timesteps,N,L,dt)"
   ]
  },
  {
   "cell_type": "code",
   "execution_count": null,
   "metadata": {
    "collapsed": false
   },
   "outputs": [],
   "source": [
    "# This block computes the Cv from the results of either of the above blocks of presets.\n",
    "\n",
    "Nblocks = 10\n",
    "fromBlock = 1 # Discard first block to reach equilibrium\n",
    "Cv = np.empty(Nblocks)\n",
    "j = numtime//Nblocks\n",
    "for i in range(Nblocks):\n",
    "    Cv[i] = 1 / (2/(3*N) - np.var(K[i*j:(i+1)*j])/(K[i*j:(i+1)*j].mean()**2))\n",
    "    \n",
    "# print(Cv/N)\n",
    "print(\"Cv/kb/N = \",Cv[fromBlock::].mean()/N, \" +/- \", 2*np.std(Cv[fromBlock::]/N))\n",
    "print(\"relError = \",2*np.std(Cv[fromBlock::]/N) / (Cv[fromBlock::].mean()/N) * 100, \"%\")\n",
    "# ar.plotEnergy(timesteps,K,V)\n",
    "# ar.plotParticles(pos2,L)\n",
    "# ar.plt.show()"
   ]
  },
  {
   "cell_type": "markdown",
   "metadata": {},
   "source": [
    "### Find the pressure for various densities and temperatures"
   ]
  },
  {
   "cell_type": "code",
   "execution_count": 54,
   "metadata": {
    "collapsed": false
   },
   "outputs": [],
   "source": [
    "# -------- Fixed T program ------------------\n",
    "Tij = np.tile(np.array([1.0, 1.35, 2.74]),(9,1))\n",
    "rhoij = np.array([[0.65, 0.7, 0.72, 0.74, 0.76, 0.78, 0.8, 0.82, 0.84 ],[0.1, 0.2, 0.3, 0.4, 0.5, 0.55, 0.6, 0.65, 0.7],[0.1, 0.2, 0.3, 0.4, 0.5, 0.55, 0.6, 0.65, 0.7]]).T\n",
    "Pij = np.zeros_like(Tij)\n",
    "PijUncertainty = np.zeros_like(Tij)\n",
    "numtime = 20000\n",
    "Nblocks = 20\n",
    "l = numtime//Nblocks\n",
    "fromBlock = 1 # Discard first block to reach equilibrium\n",
    "\n",
    "for i in range(Tij.shape[0]):\n",
    "    for j in range(Tij.shape[1]):\n",
    "        pos,vel,rho,T,n,timesteps,dt,N,L = ar.init_params(rhoij[i][j],Tij[i][j],6,numtime)\n",
    "        pos2,vel2,K,V,rV = ar.evolveTimeFixedT(pos,vel,timesteps,N,L,dt,T)\n",
    "        Ptemp = np.empty(Nblocks)\n",
    "        for k in range(Nblocks):\n",
    "            Ptemp[k] = np.mean(1/(L**3) * ( 2*K[k*l:(k+1)*l] - rV[k*l:(k+1)*l] )/3)\n",
    "        Pij[i][j] = np.mean(Ptemp[fromBlock::])\n",
    "        PijUncertainty[i][j] = 2*np.std(Ptemp[fromBlock::])\n",
    "       "
   ]
  },
  {
   "cell_type": "code",
   "execution_count": 70,
   "metadata": {
    "collapsed": false
   },
   "outputs": [],
   "source": [
    "# Produce plot\n",
    "plt.figure()\n",
    "plt.errorbar(rhoij[:,0],Pij[:,0]/Tij[:,0],yerr = PijUncertainty[:,0])\n",
    "plt.errorbar(rhoij[:,1],Pij[:,1]/Tij[:,1],yerr = PijUncertainty[:,1])\n",
    "plt.errorbar(rhoij[:,2],Pij[:,2]/Tij[:,2],yerr = PijUncertainty[:,2])\n",
    "plt.legend(('T = ' + str(Tij[0][0]),'T = ' + str(Tij[0][1]),'T = ' + str(Tij[0][2])),loc=2)\n",
    "plt.xlabel(r'$\\rho$')\n",
    "plt.ylabel(r'$\\frac{P}{T}$')\n",
    "plt.show()"
   ]
  },
  {
   "cell_type": "markdown",
   "metadata": {},
   "source": [
    "### Pair correlation function computation"
   ]
  },
  {
   "cell_type": "code",
   "execution_count": 65,
   "metadata": {
    "collapsed": false
   },
   "outputs": [
    {
     "data": {
      "text/plain": [
       "<matplotlib.text.Text at 0x7eb0ac8>"
      ]
     },
     "execution_count": 65,
     "metadata": {},
     "output_type": "execute_result"
    }
   ],
   "source": [
    "#for gas\n",
    "pos,vel,rho,T,n,timesteps,dt,N,L = ar.init_params(0.8,1,6,4000)\n",
    "pos2,vel2,K,V,rV, nr = ar.evolveTimeFixedTAndCalcG(pos,vel,timesteps,N,L,dt,T, 1000)\n",
    "rVec, g = ar.correlation(N, L, len(nr[0,:]), nr, 2000)\n",
    "plt.figure(figsize = (12,7))\n",
    "plt.plot(rVec, g)\n",
    "plt.ylim((0,5))\n",
    "plt.xlim((0,6))\n",
    "plt.xlabel('distance r(in units of sigma)')\n",
    "plt.ylabel('Correlation g')\n",
    "plt.axhline(1, color=\"r\")\n",
    "plt.title(\"correlation function for Gas T = %.2f rho=%.2f\" % (T, rho))\n",
    "plt.show()"
   ]
  },
  {
   "cell_type": "code",
   "execution_count": null,
   "metadata": {
    "collapsed": false
   },
   "outputs": [],
   "source": [
    "#for liquid\n",
    "pos,vel,rho,T,n,timesteps,dt,N,L = ar.init_params(0.96,1,6,4000)\n",
    "pos2,vel2,K,V,rV, nr = ar.evolveTimeFixedTAndCalcG(pos,vel,timesteps,N,L,dt,T, 1000)\n",
    "rVec, g = ar.correlation(N, L, len(nr[0,:]), nr, 2000)\n",
    "plt.figure(figsize = (12,7))\n",
    "plt.plot(rVec, g)\n",
    "plt.ylim((0,5))\n",
    "plt.xlim((0,6))\n",
    "plt.xlabel('distance r(in units of sigma)')\n",
    "plt.ylabel('Correlation g')\n",
    "plt.axhline(1, color=\"r\")\n",
    "plt.title(\"correlation function for Liquid T = %.2f rho=%.2f\" % (T, rho))\n",
    "plt.show()"
   ]
  },
  {
   "cell_type": "code",
   "execution_count": null,
   "metadata": {
    "collapsed": false
   },
   "outputs": [],
   "source": [
    "#for solid\n",
    "pos,vel,rho,T,n,timesteps,dt,N,L = ar.init_params(1.0,0.1,6,4000)\n",
    "pos2,vel2,K,V,rV, nr = ar.evolveTimeFixedTAndCalcG(pos,vel,timesteps,N,L,dt,T, 1000)\n",
    "rVec, g = ar.correlation(N, L, len(nr[0,:]), nr, 2000)\n",
    "plt.figure(figsize = (12,7))\n",
    "plt.plot(rVec, g)\n",
    "plt.ylim((0,10))\n",
    "plt.xlim((0,6))\n",
    "plt.xlabel('distance r(in units of sigma)')\n",
    "plt.ylabel('Correlation g')\n",
    "plt.title(\"correlation function for Solid T = %.2f rho=%.2f\" % (T, rho))\n",
    "plt.show()"
   ]
  },
  {
   "cell_type": "code",
   "execution_count": 66,
   "metadata": {
    "collapsed": false
   },
   "outputs": [],
   "source": []
  },
  {
   "cell_type": "code",
   "execution_count": null,
   "metadata": {
    "collapsed": true
   },
   "outputs": [],
   "source": []
  }
 ],
 "metadata": {
  "kernelspec": {
   "display_name": "Python 3",
   "language": "python",
   "name": "python3"
  },
  "language_info": {
   "codemirror_mode": {
    "name": "ipython",
    "version": 3
   },
   "file_extension": ".py",
   "mimetype": "text/x-python",
   "name": "python",
   "nbconvert_exporter": "python",
   "pygments_lexer": "ipython3",
   "version": "3.5.1"
  }
 },
 "nbformat": 4,
 "nbformat_minor": 0
}
