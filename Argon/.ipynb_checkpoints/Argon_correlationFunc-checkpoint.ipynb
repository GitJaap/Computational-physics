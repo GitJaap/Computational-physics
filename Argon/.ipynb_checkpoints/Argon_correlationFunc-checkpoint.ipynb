{
 "cells": [
  {
   "cell_type": "markdown",
   "metadata": {},
   "source": [
    "# Argon simulation"
   ]
  },
  {
   "cell_type": "markdown",
   "metadata": {},
   "source": [
    "#### Constants en parameters"
   ]
  },
  {
   "cell_type": "code",
   "execution_count": 58,
   "metadata": {
    "collapsed": false
   },
   "outputs": [],
   "source": [
    "import numpy as np\n",
    "import math\n",
    "from numba import jit\n",
    "import matplotlib.pyplot as plt\n",
    "from mpl_toolkits.mplot3d import Axes3D\n",
    "%matplotlib inline\n",
    "\n",
    "# constants - used to calculate endresults in SI. Computation is in natural units, i.e. m=1 eps=1 sigma=1.\n",
    "kb = 1.38 * 10**(-23) #J/K\n",
    "eps_per_kb = 120 #K\n",
    "sigma = 0.34*10**(-9) #m\n",
    "m = 6.633853*10**(-26) #kg - mass of argon atom\n",
    "tau = math.sqrt(m*sigma*sigma/eps_per_kb/kb) #s - typical unit of time.\n",
    "\n",
    "#### ----------------------------------- Parameters\n",
    "# adjustable params (Natural units!)\n",
    "rho = 0.75                #width of the box in sigma\n",
    "Tinit = 1                 #For fixed energy computation, must be scalar\n",
    "Tfixed = 1                #For fixed temperature computation, must be a range\n",
    "n = 3                    #Number of unit cells per dimension\n",
    "dt = 0.004                #In natural units\n",
    "timesteps = 4000         #number of timesteps\n",
    "\n",
    "# computed params\n",
    "N = 4*n*n*n #Number of particles\n",
    "L = (N/rho)**(1/3) \n"
   ]
  },
  {
   "cell_type": "markdown",
   "metadata": {},
   "source": [
    "#### This function returns the initial position of N atoms in a FFC structure"
   ]
  },
  {
   "cell_type": "code",
   "execution_count": 54,
   "metadata": {
    "collapsed": false
   },
   "outputs": [],
   "source": [
    "def init_pos():\n",
    "    v = np.linspace(0,1,n,False)\n",
    "    w = np.linspace(1/(2*n),(2*n-1)/(2*n),n,True)\n",
    "    \n",
    "    X1,Y1,Z1 = np.meshgrid(v,v,v) #corners\n",
    "    X2,Y2,Z2 = np.meshgrid(w,w,v) #face centers per axis\n",
    "    X3,Y3,Z3 = np.meshgrid(v,w,w)\n",
    "    X4,Y4,Z4 = np.meshgrid(w,v,w)\n",
    "    x = np.hstack((X1.reshape(n**3),X2.reshape(n**3),X3.reshape(n**3),X4.reshape(n**3)))\n",
    "    y = np.hstack((Y1.reshape(n**3),Y2.reshape(n**3),Y3.reshape(n**3),Y4.reshape(n**3)))\n",
    "    z = np.hstack((Z1.reshape(n**3),Z2.reshape(n**3),Z3.reshape(n**3),Z4.reshape(n**3)))\n",
    "    \n",
    "    return L*x, L*y, L*z\n",
    "    "
   ]
  },
  {
   "cell_type": "markdown",
   "metadata": {},
   "source": [
    "#### This function returns the initial velocity of the atoms at temperature T"
   ]
  },
  {
   "cell_type": "code",
   "execution_count": 55,
   "metadata": {
    "collapsed": true
   },
   "outputs": [],
   "source": [
    "def init_vel(Temp):\n",
    "    v = np.random.normal(0,math.sqrt(Temp),(N,3))\n",
    "    vx = v[:,0] - v[:,0].mean()\n",
    "    vy = v[:,1] - v[:,1].mean()\n",
    "    vz = v[:,2] - v[:,2].mean()\n",
    "    return vx,vy,vz"
   ]
  },
  {
   "cell_type": "markdown",
   "metadata": {},
   "source": [
    "#### Potential and force functions"
   ]
  },
  {
   "cell_type": "code",
   "execution_count": 56,
   "metadata": {
    "collapsed": false
   },
   "outputs": [],
   "source": [
    "# Force between particle i and j\n",
    "@jit\n",
    "def forceLJ(xi,yi,zi,xj,yj,zj):\n",
    "    dx = xi-(xj + np.around((xi-xj)/L)*L) \n",
    "    dy = yi-(yj + np.around((yi-yj)/L)*L) \n",
    "    dz = zi-(zj + np.around((zi-zj)/L)*L) \n",
    "    r2 = dx*dx + dy*dy + dz*dz\n",
    "    pref = 48/(r2**7) - 24/(r2**4)\n",
    "    Fx = pref*dx\n",
    "    Fy = pref*dy\n",
    "    Fz = pref*dz\n",
    "    V = 4/(r2**6) - 4/(r2**3)\n",
    "    rV = -48/(r2**6) + 24/(r2**3) #r_ij * dV/dr (r_ij)\n",
    "    return Fx, Fy, Fz, V, rV\n",
    "\n",
    "# Total force on each particle in a vector, and total potential energy of all particles.\n",
    "@jit\n",
    "def forceTotal(x,y,z):\n",
    "    Fx = np.zeros(N)\n",
    "    Fy = np.zeros(N)\n",
    "    Fz = np.zeros(N)\n",
    "    V = 0.0\n",
    "    rV = 0.0\n",
    "    for i in range(N):\n",
    "        for j in range(i):\n",
    "            dFx,dFy,dFz,dV,drV = forceLJ(x[i],y[i],z[i],x[j],y[j],z[j])\n",
    "            Fx[i] += dFx\n",
    "            Fy[i] += dFy\n",
    "            Fz[i] += dFz\n",
    "            # action = - reaction\n",
    "            Fx[j] -= dFx\n",
    "            Fy[j] -= dFy\n",
    "            Fz[j] -= dFz\n",
    "            \n",
    "            V += dV\n",
    "            rV += drV\n",
    "    return Fx,Fy,Fz,V,rV\n",
    "          \n",
    "            \n",
    "            \n",
    "            "
   ]
  },
  {
   "cell_type": "markdown",
   "metadata": {},
   "source": [
    "### Solve in time\n",
    "The equations coverning the motion are (timestep dt) given by:\n",
    "$$ x(t+dt) = x(t) + dt \\cdot v(t) + \\frac{dt^2}{2} \\frac{F(t)}{m} $$\n",
    "$$ v(t+dt) = v(t) + \\frac{dt}{2} F(t+dt) + \\frac{dt}{2} \\frac{F(t)}{m} $$ \n",
    "Note that $m=1$ in our computation in natural units."
   ]
  },
  {
   "cell_type": "code",
   "execution_count": 51,
   "metadata": {
    "collapsed": false
   },
   "outputs": [],
   "source": [
    "def evolveTimeConserveE(x,y,z,vx,vy,vz,numtime):\n",
    "    #Initialize kinetic and potential energy vectors\n",
    "    K = np.zeros(numtime)\n",
    "    V = np.zeros(numtime)\n",
    "    rV = np.zeros(numtime)\n",
    "    Fx,Fy,Fz,discard,discard2 = forceTotal(x,y,z)\n",
    "    for i in range(numtime):\n",
    "        vx += 0.5*dt*Fx\n",
    "        vy += 0.5*dt*Fy\n",
    "        vz += 0.5*dt*Fz        \n",
    "        \n",
    "        x += dt*vx\n",
    "        y += dt*vy\n",
    "        z += dt*vz\n",
    "        x = x%L\n",
    "        y = y%L\n",
    "        z = z%L\n",
    "\n",
    "        Fx,Fy,Fz,V[i],rV[i] = forceTotal(x,y,z)\n",
    "        \n",
    "        vx += dt/2*Fx\n",
    "        vy += dt/2*Fy\n",
    "        vz += dt/2*Fz    \n",
    "        \n",
    "        K[i] = 0.5*np.sum(vx*vx+vy*vy+vz*vz)\n",
    "        \n",
    "        \n",
    "    return x,y,z,vx,vy,vz,K,V,rV"
   ]
  },
  {
   "cell_type": "code",
   "execution_count": 44,
   "metadata": {
    "collapsed": false
   },
   "outputs": [],
   "source": [
    "def evolveTimeFixedT(x,y,z,vx,vy,vz,numtime):\n",
    "    #Initialize potential energy vectors\n",
    "    K = np.zeros(numtime)\n",
    "    V = np.zeros(numtime)\n",
    "    rV = np.zeros(numtime)\n",
    "    Fx,Fy,Fz,discard,discard2 = forceTotal(x,y,z)\n",
    "    for i in range(numtime):\n",
    "        vx += 0.5*dt*Fx\n",
    "        vy += 0.5*dt*Fy\n",
    "        vz += 0.5*dt*Fz        \n",
    "        \n",
    "        x += dt*vx\n",
    "        y += dt*vy\n",
    "        z += dt*vz\n",
    "        x = x%L\n",
    "        y = y%L\n",
    "        z = z%L\n",
    "\n",
    "        Fx,Fy,Fz,V[i],rV[i] = forceTotal(x,y,z)\n",
    "        \n",
    "        vx += dt/2*Fx\n",
    "        vy += dt/2*Fy\n",
    "        vz += dt/2*Fz  \n",
    "\n",
    "        scale = np.sqrt(3*Tfixed/np.mean(vx**2+vy**2+vz**2))\n",
    "        vx = scale*vx\n",
    "        vy = scale*vy\n",
    "        vz = scale*vz\n",
    "        \n",
    "        K[i] = 0.5*np.sum(vx*vx+vy*vy+vz*vz)\n",
    "        \n",
    "    return x,y,z,vx,vy,vz,K,V,rV"
   ]
  },
  {
   "cell_type": "markdown",
   "metadata": {},
   "source": [
    "### Plotting functions"
   ]
  },
  {
   "cell_type": "code",
   "execution_count": 45,
   "metadata": {
    "collapsed": false
   },
   "outputs": [],
   "source": [
    "def plotEnergy():\n",
    "    fig = plt.figure(1)\n",
    "    plt.plot(range(timesteps),K,'b',range(timesteps),V,'g',range(timesteps),K+V,'r')\n",
    "    plt.legend(('Kinetic', 'Potential', 'Total'))\n",
    "    plt.draw()\n",
    "    \n",
    "def plotParticles():\n",
    "    fig = plt.figure(2)\n",
    "    ax = fig.add_subplot(111, projection='3d')\n",
    "    ax.scatter(x,y,z)\n",
    "    plt.xlim(0,L)\n",
    "    plt.ylim(0,L)\n",
    "    ax.set_zlim(0,L)\n",
    "    plt.draw()\n",
    "\n",
    "def plotPressure():\n",
    "    fig = plt.figure(3)\n",
    "    plt.plot(range(timesteps),P)\n",
    "    plt.legend(('Pressure'))\n",
    "    plt.draw()\n"
   ]
  },
  {
   "cell_type": "markdown",
   "metadata": {},
   "source": [
    "## Main program"
   ]
  },
  {
   "cell_type": "markdown",
   "metadata": {
    "collapsed": true
   },
   "source": [
    "We compute $C_v$ by the Lebowitz formula: \n",
    "$$\n",
    "\\frac{<\\delta K^2>}{<K>^2} = \\frac{2}{3N}\\Big(1 - \\frac{3Nk_b}{2C_v}\\Big)\n",
    "$$\n",
    "At high density, low temperature (rho = 0.99, T = 0.1, n=4, timesteps = 200,000) yields $\\frac{C_v}{k_bN} \\approx 3$\n",
    "\n",
    "At low density, high temperature (rho = 0.01 T = 2, n=4, timesteps = 2,000) yields $\\frac{C_v}{k_bN} \\approx 1.5$"
   ]
  },
  {
   "cell_type": "markdown",
   "metadata": {},
   "source": [
    "For computing the pressure at constant temperature, we find that\n",
    "$$\n",
    "P = \\frac{1}{3L^3} \\bigg(2K - \\sum_{i<j}^N r_{ij} \\frac{\\partial V}{\\partial r}\\bigg)\n",
    "$$"
   ]
  },
  {
   "cell_type": "code",
   "execution_count": 21,
   "metadata": {
    "collapsed": false,
    "scrolled": false
   },
   "outputs": [],
   "source": [
    "\n",
    "\n",
    "##### --------------------------------- Program\n",
    "\n",
    "# # --------- conserve E program --------------\n",
    "# x,y,z = init_pos()\n",
    "# vx,vy,vz = init_vel(Tinit)\n",
    "# x,y,z,vx,vy,vz,K,V,rV = evolveTimeConserveE(x,y,z,vx,vy,vz,timesteps)\n",
    "\n",
    "# Cv = 1 / (2/(3*N) - np.var(K[1000::])/(K[1000::].mean()**2))\n",
    "# print(\"Cv/kb/N = \",Cv/N)\n",
    "\n",
    "# plotEnergy()\n",
    "# plotParticles()\n",
    "# plt.show()\n",
    "\n",
    "# -------- Fixed T program ------------------\n",
    "x,y,z = init_pos()\n",
    "vx,vy,vz = init_vel(Tfixed)\n",
    "x,y,z,vx,vy,vz,K,V,rV = evolveTimeFixedT(x,y,z,vx,vy,vz,timesteps)\n",
    "\n",
    "P = 1/(L**3) * ( 2*K - rV )/3\n",
    "\n"
   ]
  },
  {
   "cell_type": "code",
   "execution_count": 43,
   "metadata": {
    "collapsed": false
   },
   "outputs": [
    {
     "data": {
      "text/plain": [
       "0.5161666443800873"
      ]
     },
     "execution_count": 43,
     "metadata": {},
     "output_type": "execute_result"
    }
   ],
   "source": [
    "P[200::].mean()\n",
    "\n"
   ]
  },
  {
   "cell_type": "code",
   "execution_count": 44,
   "metadata": {
    "collapsed": true
   },
   "outputs": [],
   "source": [
    "plotEnergy()\n",
    "plotPressure()\n",
    "plt.show()"
   ]
  },
  {
   "cell_type": "code",
   "execution_count": 20,
   "metadata": {
    "collapsed": false
   },
   "outputs": [
    {
     "name": "stdout",
     "output_type": "stream",
     "text": [
      "100 loops, best of 3: 12.4 ms per loop\n"
     ]
    }
   ],
   "source": [
    "params = init_params();\n",
    "x,y,z = init_pos()\n",
    "vx,vy,vz = init_vel(Tinit)\n",
    "x,y,z,vx,vy,vz,K,V,rV = evolveTimeConserveE(x,y,z,vx,vy,vz,15)"
   ]
  },
  {
   "cell_type": "code",
   "execution_count": 57,
   "metadata": {
    "collapsed": false
   },
   "outputs": [
    {
     "data": {
      "text/plain": [
       "<matplotlib.legend.Legend at 0x9da0da0>"
      ]
     },
     "execution_count": 57,
     "metadata": {},
     "output_type": "execute_result"
    },
    {
     "data": {
      "image/png": "[encoded data removed]",
      "text/plain": [
       "<matplotlib.figure.Figure at 0x59a62e8>"
      ]
     },
     "metadata": {},
     "output_type": "display_data"
    }
   ],
   "source": [
    "##--------- conserve E program --------------\n",
    "x,y,z = init_pos()\n",
    "vx,vy,vz = init_vel(Tinit)\n",
    "x,y,z,vx,vy,vz,K,V,rV = evolveTimeConserveE(x,y,z,vx,vy,vz,timesteps)\n",
    "\n",
    "\n",
    "plt.figure(figsize = (12,8))\n",
    "plt.title(\"Energy vs time for rho = %f.2, T = %f.2, nSteps = %d\" %( rho, Tinit, timesteps))\n",
    "plt.plot([dt * j for j in range(0, timesteps)], V, 'r')\n",
    "plt.plot([dt * j for j in range(0, timesteps)], K,  'b')\n",
    "plt.plot([dt * j for j in range(0, timesteps)], K + V , 'y')\n",
    "plt.xlabel('Time[natural units]')\n",
    "plt.ylabel('Energy [$\\epsilon$]')\n",
    "plt.legend(('pot', 'kinetic', 'total'))"
   ]
  },
  {
   "cell_type": "code",
   "execution_count": 59,
   "metadata": {
    "collapsed": false
   },
   "outputs": [
    {
     "data": {
      "text/plain": [
       "<matplotlib.legend.Legend at 0xa3e2ba8>"
      ]
     },
     "execution_count": 59,
     "metadata": {},
     "output_type": "execute_result"
    },
    {
     "data": {
      "image/png": "[encoded data removed]",
      "text/plain": [
       "<matplotlib.figure.Figure at 0xa6e7550>"
      ]
     },
     "metadata": {},
     "output_type": "display_data"
    }
   ],
   "source": [
    "##--------- conserve E program --------------\n",
    "x,y,z = init_pos()\n",
    "vx,vy,vz = init_vel(Tinit)\n",
    "x,y,z,vx,vy,vz,K,V,rV = evolveTimeConserveE(x,y,z,vx,vy,vz,timesteps)\n",
    "\n",
    "\n",
    "plt.figure(figsize = (12,8))\n",
    "plt.title(\"Energy vs time for Gas rho = %f.2, T = %f.2, nSteps = %d\" %( rho, Tinit, timesteps))\n",
    "plt.plot([dt * j for j in range(0, timesteps)], V, 'r')\n",
    "plt.plot([dt * j for j in range(0, timesteps)], K,  'b')\n",
    "plt.plot([dt * j for j in range(0, timesteps)], K + V , 'y')\n",
    "plt.xlabel('Time[natural units]')\n",
    "plt.ylabel('Energy [$\\epsilon$]')\n",
    "plt.legend(('pot', 'kinetic', 'total'))"
   ]
  },
  {
   "cell_type": "code",
   "execution_count": null,
   "metadata": {
    "collapsed": true
   },
   "outputs": [],
   "source": [
    "# Force between particle i and j with correlation function implemented\n",
    "@jit\n",
    "def forceLJ(xi,yi,zi,xj,yj,zj):\n",
    "    dx = xi-(xj + np.around((xi-xj)/L)*L) \n",
    "    dy = yi-(yj + np.around((yi-yj)/L)*L) \n",
    "    dz = zi-(zj + np.around((zi-zj)/L)*L) \n",
    "    r2 = dx*dx + dy*dy + dz*dz\n",
    "    pref = 48/(r2**7) - 24/(r2**4)\n",
    "    Fx = pref*dx\n",
    "    Fy = pref*dy\n",
    "    Fz = pref*dz\n",
    "    V = 4/(r2**6) - 4/(r2**3)\n",
    "    rV = -48/(r2**6) + 24/(r2**3) #r_ij * dV/dr (r_ij)\n",
    "    return Fx, Fy, Fz, V, rV\n",
    "\n",
    "# Total force on each particle in a vector, and total potential energy of all particles.\n",
    "@jit\n",
    "def forceTotal(x,y,z):\n",
    "    Fx = np.zeros(N)\n",
    "    Fy = np.zeros(N)\n",
    "    Fz = np.zeros(N)\n",
    "    V = 0.0\n",
    "    rV = 0.0\n",
    "    for i in range(N):\n",
    "        for j in range(i):\n",
    "            dFx,dFy,dFz,dV,drV = forceLJ(x[i],y[i],z[i],x[j],y[j],z[j])\n",
    "            Fx[i] += dFx\n",
    "            Fy[i] += dFy\n",
    "            Fz[i] += dFz\n",
    "            # action = - reaction\n",
    "            Fx[j] -= dFx\n",
    "            Fy[j] -= dFy\n",
    "            Fz[j] -= dFz\n",
    "            \n",
    "            V += dV\n",
    "            rV += drV\n",
    "    return Fx,Fy,Fz,V,rV\n",
    "          "
   ]
  },
  {
   "cell_type": "code",
   "execution_count": null,
   "metadata": {
    "collapsed": true
   },
   "outputs": [],
   "source": []
  },
  {
   "cell_type": "code",
   "execution_count": null,
   "metadata": {
    "collapsed": true
   },
   "outputs": [],
   "source": []
  },
  {
   "cell_type": "code",
   "execution_count": null,
   "metadata": {
    "collapsed": true
   },
   "outputs": [],
   "source": []
  },
  {
   "cell_type": "code",
   "execution_count": null,
   "metadata": {
    "collapsed": true
   },
   "outputs": [],
   "source": []
  }
 ],
 "metadata": {
  "kernelspec": {
   "display_name": "Python 3",
   "language": "python",
   "name": "python3"
  },
  "language_info": {
   "codemirror_mode": {
    "name": "ipython",
    "version": 3
   },
   "file_extension": ".py",
   "mimetype": "text/x-python",
   "name": "python",
   "nbconvert_exporter": "python",
   "pygments_lexer": "ipython3",
   "version": "3.5.1"
  }
 },
 "nbformat": 4,
 "nbformat_minor": 0
}
