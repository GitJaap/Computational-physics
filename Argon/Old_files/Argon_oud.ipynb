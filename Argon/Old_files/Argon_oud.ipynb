{
 "cells": [
  {
   "cell_type": "markdown",
   "metadata": {},
   "source": [
    "# Argon code oud (alleen tijdsevolutie)"
   ]
  },
  {
   "cell_type": "markdown",
   "metadata": {},
   "source": [
    "### Define constants and parameters first"
   ]
  },
  {
   "cell_type": "code",
   "execution_count": 1,
   "metadata": {
    "collapsed": true
   },
   "outputs": [],
   "source": [
    "import numpy as np\n",
    "import math\n",
    "from numba import jit\n",
    "import matplotlib.pyplot as plt\n",
    "from mpl_toolkits.mplot3d import Axes3D\n",
    "\n",
    "# constants - used to calculate endresults in SI. Computation is in natural units, i.e. m=1 eps=1 sigma=1.\n",
    "kb = 1.38 * 10**(-23) #J/K\n",
    "eps_per_kb = 120 #K\n",
    "sigma = 0.34*10**(-9) #m\n",
    "m = 6.633853*10**(-26) #kg - mass of argon atom\n",
    "tau = math.sqrt(m*sigma*sigma/eps_per_kb/kb) #s - typical unit of time.\n",
    "\n",
    "#### ----------------------------------- Parameters\n",
    "# adjustable params (Natural units!)\n",
    "rho = 0.75                #width of the box in sigma\n",
    "Temp = 1                 #For fixed energy computation, must be scalar\n",
    "n = 3                     #Number of unit cells per dimension\n",
    "dt = 0.004                #In natural units\n",
    "timesteps = 15          #number of timesteps\n",
    "\n",
    "# computed params\n",
    "N = 4*n*n*n #Number of particles\n",
    "L = (N/rho)**(1/3) "
   ]
  },
  {
   "cell_type": "markdown",
   "metadata": {},
   "source": [
    "### Initial position computation"
   ]
  },
  {
   "cell_type": "code",
   "execution_count": 2,
   "metadata": {
    "collapsed": true
   },
   "outputs": [],
   "source": [
    "def init_pos():\n",
    "    v = np.linspace(0,1,n,False)\n",
    "    w = np.linspace(1/(2*n),(2*n-1)/(2*n),n,True)\n",
    "    \n",
    "    X1,Y1,Z1 = np.meshgrid(v,v,v) #corners\n",
    "    X2,Y2,Z2 = np.meshgrid(w,w,v) #face centers per axis\n",
    "    X3,Y3,Z3 = np.meshgrid(v,w,w)\n",
    "    X4,Y4,Z4 = np.meshgrid(w,v,w)\n",
    "    x = np.hstack((X1.reshape(n**3),X2.reshape(n**3),X3.reshape(n**3),X4.reshape(n**3)))\n",
    "    y = np.hstack((Y1.reshape(n**3),Y2.reshape(n**3),Y3.reshape(n**3),Y4.reshape(n**3)))\n",
    "    z = np.hstack((Z1.reshape(n**3),Z2.reshape(n**3),Z3.reshape(n**3),Z4.reshape(n**3)))\n",
    "    \n",
    "    return L*x, L*y, L*z"
   ]
  },
  {
   "cell_type": "markdown",
   "metadata": {},
   "source": [
    "### Initial velocity computation"
   ]
  },
  {
   "cell_type": "code",
   "execution_count": 3,
   "metadata": {
    "collapsed": true
   },
   "outputs": [],
   "source": [
    "def init_vel():\n",
    "    v = np.random.normal(0,math.sqrt(Temp),(N,3))\n",
    "    vx = v[:,0] - v[:,0].mean()\n",
    "    vy = v[:,1] - v[:,1].mean()\n",
    "    vz = v[:,2] - v[:,2].mean()\n",
    "    return vx,vy,vz"
   ]
  },
  {
   "cell_type": "markdown",
   "metadata": {},
   "source": [
    "### Force computation based on LJ potential"
   ]
  },
  {
   "cell_type": "code",
   "execution_count": 4,
   "metadata": {
    "collapsed": true
   },
   "outputs": [],
   "source": [
    "# Force between particle i and j\n",
    "@jit\n",
    "def forceLJ(xi,yi,zi,xj,yj,zj):\n",
    "    dx = xi-(xj + np.around((xi-xj)/L)*L) \n",
    "    dy = yi-(yj + np.around((yi-yj)/L)*L) \n",
    "    dz = zi-(zj + np.around((zi-zj)/L)*L) \n",
    "    r2 = dx*dx + dy*dy + dz*dz\n",
    "    pref = 48/(r2**7) - 24/(r2**4)\n",
    "    Fx = pref*dx\n",
    "    Fy = pref*dy\n",
    "    Fz = pref*dz\n",
    "    V = 4/(r2**6) - 4/(r2**3)\n",
    "    return Fx, Fy, Fz, V\n",
    "\n",
    "# Total force on each particle in a vector, and total potential energy of all particles.\n",
    "@jit\n",
    "def forceTotal(x,y,z):\n",
    "    Fx = np.zeros(N)\n",
    "    Fy = np.zeros(N)\n",
    "    Fz = np.zeros(N)\n",
    "    V = 0.0\n",
    "    for i in range(N):\n",
    "        for j in range(i):\n",
    "            dFx,dFy,dFz,dV = forceLJ(x[i],y[i],z[i],x[j],y[j],z[j])\n",
    "            Fx[i] += dFx\n",
    "            Fy[i] += dFy\n",
    "            Fz[i] += dFz\n",
    "            # action = - reaction\n",
    "            Fx[j] -= dFx\n",
    "            Fy[j] -= dFy\n",
    "            Fz[j] -= dFz\n",
    "            \n",
    "            V += dV\n",
    "    return Fx,Fy,Fz,V"
   ]
  },
  {
   "cell_type": "markdown",
   "metadata": {},
   "source": [
    "### Evolve in time function"
   ]
  },
  {
   "cell_type": "code",
   "execution_count": 5,
   "metadata": {
    "collapsed": true
   },
   "outputs": [],
   "source": [
    "def evolveTimeConserveE(x,y,z,vx,vy,vz,numtime):\n",
    "    #Initialize kinetic and potential energy vectors\n",
    "    K = np.zeros(numtime)\n",
    "    V = np.zeros(numtime)\n",
    "    Fx,Fy,Fz,discard = forceTotal(x,y,z)\n",
    "    for i in range(numtime):\n",
    "        vx += 0.5*dt*Fx\n",
    "        vy += 0.5*dt*Fy\n",
    "        vz += 0.5*dt*Fz        \n",
    "        \n",
    "        x += dt*vx\n",
    "        y += dt*vy\n",
    "        z += dt*vz\n",
    "        x = x%L\n",
    "        y = y%L\n",
    "        z = z%L\n",
    "\n",
    "        Fx,Fy,Fz,V[i] = forceTotal(x,y,z)\n",
    "        \n",
    "        vx += dt/2*Fx\n",
    "        vy += dt/2*Fy\n",
    "        vz += dt/2*Fz  \n",
    "        \n",
    "        K[i] = 0.5*np.sum(vx*vx+vy*vy+vz*vz)\n",
    "       \n",
    "    return x,y,z,vx,vy,vz,K,V"
   ]
  },
  {
   "cell_type": "markdown",
   "metadata": {},
   "source": [
    "### Main program that calls the evolve function"
   ]
  },
  {
   "cell_type": "code",
   "execution_count": 12,
   "metadata": {
    "collapsed": false
   },
   "outputs": [
    {
     "name": "stdout",
     "output_type": "stream",
     "text": [
      "100 loops, best of 3: 4.76 ms per loop\n"
     ]
    }
   ],
   "source": [
    "%%timeit\n",
    "x,y,z = init_pos()\n",
    "vx,vy,vz = init_vel()\n",
    "x,y,z,vx,vy,vz,K,V = evolveTimeConserveE(x,y,z,vx,vy,vz,timesteps)"
   ]
  },
  {
   "cell_type": "code",
   "execution_count": 10,
   "metadata": {
    "collapsed": false
   },
   "outputs": [],
   "source": [
    "fig = plt.figure(1)\n",
    "plt.plot(range(timesteps),K,'b',range(timesteps),V,'g',range(timesteps),K+V,'r')\n",
    "plt.legend(('Kinetic', 'Potential', 'Total'))\n",
    "plt.show()"
   ]
  },
  {
   "cell_type": "code",
   "execution_count": null,
   "metadata": {
    "collapsed": true
   },
   "outputs": [],
   "source": []
  }
 ],
 "metadata": {
  "kernelspec": {
   "display_name": "Python 3",
   "language": "python",
   "name": "python3"
  },
  "language_info": {
   "codemirror_mode": {
    "name": "ipython",
    "version": 3
   },
   "file_extension": ".py",
   "mimetype": "text/x-python",
   "name": "python",
   "nbconvert_exporter": "python",
   "pygments_lexer": "ipython3",
   "version": "3.5.1"
  }
 },
 "nbformat": 4,
 "nbformat_minor": 0
}
